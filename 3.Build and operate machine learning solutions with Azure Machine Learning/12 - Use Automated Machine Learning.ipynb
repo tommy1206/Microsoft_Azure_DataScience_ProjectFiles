{
  "cells": [
    {
      "cell_type": "markdown",
      "source": [
        "# Use Automated Machine Learning\n",
        "\n",
        "There are many kinds of machine learning algorithm that you can use to train a model, and sometimes it's not easy to determine the most effective algorithm for your particular data and prediction requirements. Additionally, you can significantly affect the predictive performance of a model by preprocessing the training data, using techniques such as normalization, missing feature imputation, and others. In your quest to find the *best* model for your requirements, you may need to try many combinations of algorithms and preprocessing transformations; which takes a lot of time and compute resources.\n",
        "\n",
        "Azure Machine Learning enables you to automate the comparison of models trained using different algorithms and preprocessing options. You can use the visual interface in [Azure Machine Learning studio](https://ml/azure.com) or the SDK to leverage this capability. The SDK gives you greater control over the settings for the automated machine learning experiment, but the visual interface is easier to use.\n",
        "\n",
        "## Before you start\n",
        "\n",
        "In addition to the latest version of the **azureml-sdk** and **azureml-widgets** packages, you'll need the **azureml-train-automl** package to run the code in this notebook. Run the cell below to verify that it is installed."
      ],
      "metadata": {}
    },
    {
      "cell_type": "code",
      "source": [
        "pip show azureml-train-automl"
      ],
      "outputs": [
        {
          "output_type": "stream",
          "name": "stdout",
          "text": "\u001b[31mERROR: Exception:\nTraceback (most recent call last):\n  File \"/anaconda/envs/azureml_py38/lib/python3.8/site-packages/pip/_vendor/pkg_resources/__init__.py\", line 3021, in _dep_map\n    return self.__dep_map\n  File \"/anaconda/envs/azureml_py38/lib/python3.8/site-packages/pip/_vendor/pkg_resources/__init__.py\", line 2815, in __getattr__\n    raise AttributeError(attr)\nAttributeError: _DistInfoDistribution__dep_map\n\nDuring handling of the above exception, another exception occurred:\n\nTraceback (most recent call last):\n  File \"/anaconda/envs/azureml_py38/lib/python3.8/site-packages/pip/_vendor/pkg_resources/__init__.py\", line 3012, in _parsed_pkg_info\n    return self._pkg_info\n  File \"/anaconda/envs/azureml_py38/lib/python3.8/site-packages/pip/_vendor/pkg_resources/__init__.py\", line 2815, in __getattr__\n    raise AttributeError(attr)\nAttributeError: _pkg_info\n\nDuring handling of the above exception, another exception occurred:\n\nTraceback (most recent call last):\n  File \"/anaconda/envs/azureml_py38/lib/python3.8/site-packages/pip/_internal/cli/base_command.py\", line 188, in _main\n    status = self.run(options, args)\n  File \"/anaconda/envs/azureml_py38/lib/python3.8/site-packages/pip/_internal/commands/show.py\", line 49, in run\n    if not print_results(\n  File \"/anaconda/envs/azureml_py38/lib/python3.8/site-packages/pip/_internal/commands/show.py\", line 148, in print_results\n    for i, dist in enumerate(distributions):\n  File \"/anaconda/envs/azureml_py38/lib/python3.8/site-packages/pip/_internal/commands/show.py\", line 88, in search_packages_info\n    'required_by': get_requiring_packages(dist.project_name)\n  File \"/anaconda/envs/azureml_py38/lib/python3.8/site-packages/pip/_internal/commands/show.py\", line 75, in get_requiring_packages\n    return [\n  File \"/anaconda/envs/azureml_py38/lib/python3.8/site-packages/pip/_internal/commands/show.py\", line 79, in <listcomp>\n    pkg.requires()]\n  File \"/anaconda/envs/azureml_py38/lib/python3.8/site-packages/pip/_vendor/pkg_resources/__init__.py\", line 2736, in requires\n    dm = self._dep_map\n  File \"/anaconda/envs/azureml_py38/lib/python3.8/site-packages/pip/_vendor/pkg_resources/__init__.py\", line 3023, in _dep_map\n    self.__dep_map = self._compute_dependencies()\n  File \"/anaconda/envs/azureml_py38/lib/python3.8/site-packages/pip/_vendor/pkg_resources/__init__.py\", line 3032, in _compute_dependencies\n    for req in self._parsed_pkg_info.get_all('Requires-Dist') or []:\n  File \"/anaconda/envs/azureml_py38/lib/python3.8/site-packages/pip/_vendor/pkg_resources/__init__.py\", line 3014, in _parsed_pkg_info\n    metadata = self.get_metadata(self.PKG_INFO)\n  File \"/anaconda/envs/azureml_py38/lib/python3.8/site-packages/pip/_vendor/pkg_resources/__init__.py\", line 1420, in get_metadata\n    value = self._get(path)\n  File \"/anaconda/envs/azureml_py38/lib/python3.8/site-packages/pip/_vendor/pkg_resources/__init__.py\", line 1616, in _get\n    with open(path, 'rb') as stream:\nFileNotFoundError: [Errno 2] No such file or directory: '/anaconda/envs/azureml_py38/lib/python3.8/site-packages/econml-0.12.0.dist-info/METADATA'\u001b[0m\nNote: you may need to restart the kernel to use updated packages.\n"
        }
      ],
      "execution_count": 11,
      "metadata": {
        "vscode": {
          "languageId": "python"
        },
        "gather": {
          "logged": 1665913752913
        }
      }
    },
    {
      "cell_type": "markdown",
      "source": [
        "## Connect to your workspace\n",
        "\n",
        "With the required SDK packages installed, now you're ready to connect to your workspace.\n",
        "\n",
        "> **Note**: If you haven't already established an authenticated session with your Azure subscription, you'll be prompted to authenticate by clicking a link, entering an authentication code, and signing into Azure."
      ],
      "metadata": {}
    },
    {
      "cell_type": "code",
      "source": [
        "import azureml.core\n",
        "from azureml.core import Workspace\n",
        "\n",
        "# Load the workspace from the saved config file\n",
        "ws = Workspace.from_config()\n",
        "print('Ready to use Azure ML {} to work with {}'.format(azureml.core.VERSION, ws.name))"
      ],
      "outputs": [
        {
          "output_type": "stream",
          "name": "stdout",
          "text": "Ready to use Azure ML 1.44.0 to work with exercise_deep_neural_network\n"
        }
      ],
      "execution_count": 12,
      "metadata": {
        "vscode": {
          "languageId": "python"
        },
        "gather": {
          "logged": 1665913753343
        }
      }
    },
    {
      "cell_type": "markdown",
      "source": [
        "## Prepare data\n",
        "\n",
        "You don't need to create a training script for automated machine learning, but you do need to load the training data. In this case, you'll use a dataset containing details of diabetes patients, and then split this into two datasets: one for training, and another for model validation."
      ],
      "metadata": {}
    },
    {
      "cell_type": "code",
      "source": [
        "from azureml.core import Dataset\n",
        "\n",
        "default_ds = ws.get_default_datastore()\n",
        "\n",
        "if 'diabetes dataset' not in ws.datasets:\n",
        "    default_ds.upload_files(files=['./data/diabetes.csv', './data/diabetes2.csv'], # Upload the diabetes csv files in /data\n",
        "                        target_path='diabetes-data/', # Put it in a folder path in the datastore\n",
        "                        overwrite=True, # Replace existing files of the same name\n",
        "                        show_progress=True)\n",
        "\n",
        "    #Create a tabular dataset from the path on the datastore (this may take a short while)\n",
        "    tab_data_set = Dataset.Tabular.from_delimited_files(path=(default_ds, 'diabetes-data/*.csv'))\n",
        "\n",
        "    # Register the tabular dataset\n",
        "    try:\n",
        "        tab_data_set = tab_data_set.register(workspace=ws, \n",
        "                                name='diabetes dataset',\n",
        "                                description='diabetes data',\n",
        "                                tags = {'format':'CSV'},\n",
        "                                create_new_version=True)\n",
        "        print('Dataset registered.')\n",
        "    except Exception as ex:\n",
        "        print(ex)\n",
        "else:\n",
        "    print('Dataset already registered.')\n",
        "\n",
        "\n",
        "# Split the dataset into training and validation subsets\n",
        "diabetes_ds = ws.datasets.get(\"diabetes dataset\")\n",
        "train_ds, test_ds = diabetes_ds.random_split(percentage=0.7, seed=123)\n",
        "print(\"Data ready!\")"
      ],
      "outputs": [
        {
          "output_type": "stream",
          "name": "stdout",
          "text": "Dataset already registered.\nData ready!\n"
        }
      ],
      "execution_count": 13,
      "metadata": {
        "vscode": {
          "languageId": "python"
        },
        "gather": {
          "logged": 1665913753955
        }
      }
    },
    {
      "cell_type": "markdown",
      "source": [
        "## Prepare compute\n",
        "\n",
        "One of the benefits of cloud compute is that it scales on-demand, enabling you to provision enough compute resources to process multiple child-runs of an automated machine learning experiment in parallel.\n",
        "\n",
        "Use the following code to specify an Azure Machine Learning compute cluster (it will be created if it doesn't already exist)..\n",
        "\n",
        "> **Important**: Change *your-compute-cluster* to the name of your compute cluster in the code below before running it! Cluster names must be globally unique names between 2 to 16 characters in length. Valid characters are letters, digits, and the - character."
      ],
      "metadata": {}
    },
    {
      "cell_type": "code",
      "source": [
        "from azureml.core.compute import ComputeTarget, AmlCompute\n",
        "from azureml.core.compute_target import ComputeTargetException\n",
        "\n",
        "cluster_name = \"your-compute-cluster\"\n",
        "\n",
        "try:\n",
        "    # Check for existing compute target\n",
        "    training_cluster = ComputeTarget(workspace=ws, name=cluster_name)\n",
        "    print('Found existing cluster, use it.')\n",
        "except ComputeTargetException:\n",
        "    # If it doesn't already exist, create it\n",
        "    try:\n",
        "        compute_config = AmlCompute.provisioning_configuration(vm_size='STANDARD_DS11_V2', max_nodes=2)\n",
        "        training_cluster = ComputeTarget.create(ws, cluster_name, compute_config)\n",
        "        training_cluster.wait_for_completion(show_output=True)\n",
        "    except Exception as ex:\n",
        "        print(ex)\n",
        "    "
      ],
      "outputs": [
        {
          "output_type": "stream",
          "name": "stdout",
          "text": "Found existing cluster, use it.\n"
        }
      ],
      "execution_count": 14,
      "metadata": {
        "vscode": {
          "languageId": "python"
        },
        "gather": {
          "logged": 1665913754217
        }
      }
    },
    {
      "cell_type": "markdown",
      "source": [
        "> **Note**: Compute instances and clusters are based on standard Azure virtual machine images. For this exercise, the *Standard_DS11_v2* image is recommended to achieve the optimal balance of cost and performance. If your subscription has a quota that does not include this image, choose an alternative image; but bear in mind that a larger image may incur higher cost and a smaller image may not be sufficient to complete the tasks. Alternatively, ask your Azure administrator to extend your quota.\n",
        "\n",
        "## Configure automated machine learning\n",
        "\n",
        "Now you're ready to configure the automated machine learning experiment.\n",
        "\n",
        "One of the most important configuration settings is the metric by which model performance should be evaluated. You can retrieve a list of the metrics that are calculated by automated machine learning for a particular type of model task (classification or regression) like this:"
      ],
      "metadata": {}
    },
    {
      "cell_type": "code",
      "source": [
        "import azureml.train.automl.utilities as automl_utils\n",
        "\n",
        "for metric in automl_utils.get_primary_metrics('classification'):\n",
        "    print(metric)"
      ],
      "outputs": [
        {
          "output_type": "stream",
          "name": "stdout",
          "text": "average_precision_score_weighted\nAUC_weighted\nnorm_macro_recall\naccuracy\nprecision_score_weighted\n"
        }
      ],
      "execution_count": 15,
      "metadata": {
        "vscode": {
          "languageId": "python"
        },
        "gather": {
          "logged": 1665913754340
        }
      }
    },
    {
      "cell_type": "markdown",
      "source": [
        "Having decided the metric you want to optimize (in this example, *AUC_weighted*), you can configure the automated machine learning run. To do this, you'll need an AutoML configuration that specifies the target metric as well as options like the data to use, how many combinations to try, and so on.\n",
        "\n",
        "> **Note**: In this example, you'll restrict the experiment to 4 iterations to reduce the amount of time taken. In reality, you'd likely try many more iterations."
      ],
      "metadata": {}
    },
    {
      "cell_type": "code",
      "source": [
        "from azureml.train.automl import AutoMLConfig\n",
        "\n",
        "automl_config = AutoMLConfig(name='Automated ML Experiment',\n",
        "                             task='classification',\n",
        "                             compute_target=training_cluster,\n",
        "                             training_data = train_ds,\n",
        "                             validation_data = test_ds,\n",
        "                             label_column_name='Diabetic',\n",
        "                             iterations=4,\n",
        "                             primary_metric = 'AUC_weighted',\n",
        "                             max_concurrent_iterations=2,\n",
        "                             featurization='auto'\n",
        "                             )\n",
        "\n",
        "print(\"Ready for Auto ML run.\")"
      ],
      "outputs": [
        {
          "output_type": "stream",
          "name": "stdout",
          "text": "Ready for Auto ML run.\n"
        }
      ],
      "execution_count": 16,
      "metadata": {
        "vscode": {
          "languageId": "python"
        },
        "gather": {
          "logged": 1665913754452
        }
      }
    },
    {
      "cell_type": "markdown",
      "source": [
        "## Run an automated machine learning experiment\n",
        "\n",
        "OK, you're ready to go. Let's run the automated machine learning experiment.\n",
        "\n",
        "> **Note**: This may take some time!"
      ],
      "metadata": {}
    },
    {
      "cell_type": "code",
      "source": [
        "from azureml.core.experiment import Experiment\n",
        "from azureml.widgets import RunDetails\n",
        "\n",
        "print('Submitting Auto ML experiment...')\n",
        "automl_experiment = Experiment(ws, 'mslearn-diabetes-automl-sdk')\n",
        "automl_run = automl_experiment.submit(automl_config)\n",
        "RunDetails(automl_run).show()\n",
        "automl_run.wait_for_completion(show_output=True)"
      ],
      "outputs": [
        {
          "output_type": "stream",
          "name": "stdout",
          "text": "Submitting Auto ML experiment...\nSubmitting remote run.\n"
        },
        {
          "output_type": "display_data",
          "data": {
            "text/plain": "<IPython.core.display.HTML object>",
            "text/html": "<table style=\"width:100%\"><tr><th>Experiment</th><th>Id</th><th>Type</th><th>Status</th><th>Details Page</th><th>Docs Page</th></tr><tr><td>mslearn-diabetes-automl-sdk</td><td>AutoML_6d605259-fabb-417e-b1a1-14fa32332859</td><td>automl</td><td>NotStarted</td><td><a href=\"https://ml.azure.com/runs/AutoML_6d605259-fabb-417e-b1a1-14fa32332859?wsid=/subscriptions/fe87babe-9ce9-43f8-b0aa-70603823aca8/resourcegroups/exercise_train_a_deep_neural_network/workspaces/exercise_deep_neural_network&amp;tid=d6755233-46af-4030-8906-057bd29a9ee8\" target=\"_blank\" rel=\"noopener\">Link to Azure Machine Learning studio</a></td><td><a href=\"https://docs.microsoft.com/en-us/python/api/overview/azure/ml/intro?view=azure-ml-py\" target=\"_blank\" rel=\"noopener\">Link to Documentation</a></td></tr></table>"
          },
          "metadata": {}
        },
        {
          "output_type": "display_data",
          "data": {
            "text/plain": "_AutoMLWidget(widget_settings={'childWidgetDisplay': 'popup', 'send_telemetry': False, 'log_level': 'INFO', 's…",
            "application/vnd.jupyter.widget-view+json": {
              "version_major": 2,
              "version_minor": 0,
              "model_id": "7dbc5390cffa4ad0b051dd251c529c45"
            }
          },
          "metadata": {}
        },
        {
          "output_type": "display_data",
          "data": {
            "application/aml.mini.widget.v1": "{\"status\": \"Completed\", \"workbench_run_details_uri\": \"https://ml.azure.com/runs/AutoML_6d605259-fabb-417e-b1a1-14fa32332859?wsid=/subscriptions/fe87babe-9ce9-43f8-b0aa-70603823aca8/resourcegroups/exercise_train_a_deep_neural_network/workspaces/exercise_deep_neural_network&tid=d6755233-46af-4030-8906-057bd29a9ee8\", \"run_id\": \"AutoML_6d605259-fabb-417e-b1a1-14fa32332859\", \"run_properties\": {\"run_id\": \"AutoML_6d605259-fabb-417e-b1a1-14fa32332859\", \"created_utc\": \"2022-10-16T09:49:15.856013Z\", \"properties\": {\"num_iterations\": \"4\", \"training_type\": \"TrainFull\", \"acquisition_function\": \"EI\", \"primary_metric\": \"AUC_weighted\", \"train_split\": \"0\", \"acquisition_parameter\": \"0\", \"num_cross_validation\": null, \"target\": \"your-compute-cluster\", \"AMLSettingsJsonString\": \"{\\\"path\\\":null,\\\"name\\\":\\\"Automated ML Experiment\\\",\\\"subscription_id\\\":\\\"fe87babe-9ce9-43f8-b0aa-70603823aca8\\\",\\\"resource_group\\\":\\\"exercise_train_a_deep_neural_network\\\",\\\"workspace_name\\\":\\\"exercise_deep_neural_network\\\",\\\"region\\\":\\\"koreacentral\\\",\\\"compute_target\\\":\\\"your-compute-cluster\\\",\\\"spark_service\\\":null,\\\"azure_service\\\":\\\"remote\\\",\\\"many_models\\\":false,\\\"pipeline_fetch_max_batch_size\\\":1,\\\"enable_batch_run\\\":true,\\\"enable_run_restructure\\\":false,\\\"start_auxiliary_runs_before_parent_complete\\\":false,\\\"enable_code_generation\\\":true,\\\"iterations\\\":4,\\\"primary_metric\\\":\\\"AUC_weighted\\\",\\\"task_type\\\":\\\"classification\\\",\\\"positive_label\\\":null,\\\"data_script\\\":null,\\\"test_size\\\":0.0,\\\"test_include_predictions_only\\\":false,\\\"validation_size\\\":0.0,\\\"n_cross_validations\\\":null,\\\"y_min\\\":null,\\\"y_max\\\":null,\\\"num_classes\\\":null,\\\"featurization\\\":\\\"auto\\\",\\\"_ignore_package_version_incompatibilities\\\":false,\\\"is_timeseries\\\":false,\\\"max_cores_per_iteration\\\":1,\\\"max_concurrent_iterations\\\":2,\\\"iteration_timeout_minutes\\\":null,\\\"mem_in_mb\\\":null,\\\"enforce_time_on_windows\\\":false,\\\"experiment_timeout_minutes\\\":8640,\\\"experiment_exit_score\\\":null,\\\"partition_column_names\\\":null,\\\"whitelist_models\\\":null,\\\"blacklist_algos\\\":[\\\"TensorFlowLinearClassifier\\\",\\\"TensorFlowDNN\\\"],\\\"supported_models\\\":[\\\"LogisticRegression\\\",\\\"DecisionTree\\\",\\\"SGD\\\",\\\"BernoulliNaiveBayes\\\",\\\"SVM\\\",\\\"TensorFlowDNN\\\",\\\"TabnetClassifier\\\",\\\"RandomForest\\\",\\\"XGBoostClassifier\\\",\\\"TensorFlowLinearClassifier\\\",\\\"ExtremeRandomTrees\\\",\\\"AveragedPerceptronClassifier\\\",\\\"GradientBoosting\\\",\\\"MultinomialNaiveBayes\\\",\\\"KNN\\\",\\\"LinearSVM\\\",\\\"LightGBM\\\"],\\\"private_models\\\":[],\\\"auto_blacklist\\\":true,\\\"blacklist_samples_reached\\\":false,\\\"exclude_nan_labels\\\":true,\\\"verbosity\\\":20,\\\"_debug_log\\\":\\\"azureml_automl.log\\\",\\\"show_warnings\\\":false,\\\"model_explainability\\\":true,\\\"service_url\\\":null,\\\"sdk_url\\\":null,\\\"sdk_packages\\\":null,\\\"enable_onnx_compatible_models\\\":false,\\\"enable_split_onnx_featurizer_estimator_models\\\":false,\\\"vm_type\\\":\\\"STANDARD_DS11_V2\\\",\\\"telemetry_verbosity\\\":20,\\\"send_telemetry\\\":true,\\\"enable_dnn\\\":false,\\\"scenario\\\":\\\"AutoML\\\",\\\"environment_label\\\":null,\\\"save_mlflow\\\":false,\\\"enable_categorical_indicators\\\":false,\\\"force_text_dnn\\\":false,\\\"enable_feature_sweeping\\\":true,\\\"enable_early_stopping\\\":true,\\\"early_stopping_n_iters\\\":10,\\\"arguments\\\":null,\\\"dataset_id\\\":\\\"a9b15f05-86ad-42db-bce6-d171fc599eac\\\",\\\"hyperdrive_config\\\":null,\\\"validation_dataset_id\\\":\\\"b328fabd-b269-41a1-a3c1-8abe50d8918b\\\",\\\"run_source\\\":null,\\\"metrics\\\":null,\\\"enable_metric_confidence\\\":false,\\\"enable_ensembling\\\":true,\\\"enable_stack_ensembling\\\":true,\\\"ensemble_iterations\\\":4,\\\"enable_tf\\\":false,\\\"enable_subsampling\\\":false,\\\"subsample_seed\\\":null,\\\"enable_nimbusml\\\":false,\\\"enable_streaming\\\":false,\\\"force_streaming\\\":false,\\\"track_child_runs\\\":true,\\\"allowed_private_models\\\":[],\\\"label_column_name\\\":\\\"Diabetic\\\",\\\"weight_column_name\\\":null,\\\"cv_split_column_names\\\":null,\\\"enable_local_managed\\\":false,\\\"_local_managed_run_id\\\":null,\\\"cost_mode\\\":1,\\\"lag_length\\\":0,\\\"metric_operation\\\":\\\"maximize\\\",\\\"preprocess\\\":true}\", \"DataPrepJsonString\": \"{\\\\\\\"training_data\\\\\\\": {\\\\\\\"datasetId\\\\\\\": \\\\\\\"a9b15f05-86ad-42db-bce6-d171fc599eac\\\\\\\"}, \\\\\\\"validation_data\\\\\\\": {\\\\\\\"datasetId\\\\\\\": \\\\\\\"b328fabd-b269-41a1-a3c1-8abe50d8918b\\\\\\\"}, \\\\\\\"datasets\\\\\\\": 0}\", \"EnableSubsampling\": \"False\", \"runTemplate\": \"AutoML\", \"azureml.runsource\": \"automl\", \"display_task_type\": \"classification\", \"dependencies_versions\": \"{\\\"azureml-widgets\\\": \\\"1.44.0\\\", \\\"azureml-training-tabular\\\": \\\"1.44.0\\\", \\\"azureml-train\\\": \\\"1.44.0\\\", \\\"azureml-train-restclients-hyperdrive\\\": \\\"1.44.0\\\", \\\"azureml-train-core\\\": \\\"1.44.0\\\", \\\"azureml-train-automl\\\": \\\"1.44.0\\\", \\\"azureml-train-automl-runtime\\\": \\\"1.44.0\\\", \\\"azureml-train-automl-client\\\": \\\"1.44.0\\\", \\\"azureml-tensorboard\\\": \\\"1.44.0\\\", \\\"azureml-telemetry\\\": \\\"1.44.0\\\", \\\"azureml-sdk\\\": \\\"1.44.0\\\", \\\"azureml-samples\\\": \\\"0+unknown\\\", \\\"azureml-responsibleai\\\": \\\"1.44.0\\\", \\\"azureml-pipeline\\\": \\\"1.44.0\\\", \\\"azureml-pipeline-steps\\\": \\\"1.44.0\\\", \\\"azureml-pipeline-core\\\": \\\"1.44.0\\\", \\\"azureml-opendatasets\\\": \\\"1.44.0\\\", \\\"azureml-mlflow\\\": \\\"1.44.0\\\", \\\"azureml-interpret\\\": \\\"1.44.0\\\", \\\"azureml-inference-server-http\\\": \\\"0.7.4\\\", \\\"azureml-explain-model\\\": \\\"1.44.0\\\", \\\"azureml-defaults\\\": \\\"1.44.0\\\", \\\"azureml-dataset-runtime\\\": \\\"1.44.0\\\", \\\"azureml-dataprep\\\": \\\"4.2.2\\\", \\\"azureml-dataprep-rslex\\\": \\\"2.8.1\\\", \\\"azureml-dataprep-native\\\": \\\"38.0.0\\\", \\\"azureml-datadrift\\\": \\\"1.44.0\\\", \\\"azureml-core\\\": \\\"1.44.0\\\", \\\"azureml-contrib-services\\\": \\\"1.44.0\\\", \\\"azureml-contrib-server\\\": \\\"1.44.0\\\", \\\"azureml-contrib-reinforcementlearning\\\": \\\"1.44.0\\\", \\\"azureml-contrib-pipeline-steps\\\": \\\"1.44.0\\\", \\\"azureml-contrib-notebook\\\": \\\"1.44.0\\\", \\\"azureml-contrib-fairness\\\": \\\"1.44.0\\\", \\\"azureml-contrib-dataset\\\": \\\"1.44.0\\\", \\\"azureml-contrib-automl-pipeline-steps\\\": \\\"1.44.0\\\", \\\"azureml-cli-common\\\": \\\"1.44.0\\\", \\\"azureml-automl-runtime\\\": \\\"1.44.0\\\", \\\"azureml-automl-dnn-nlp\\\": \\\"1.44.0\\\", \\\"azureml-automl-core\\\": \\\"1.44.0\\\", \\\"azureml-accel-models\\\": \\\"1.44.0\\\"}\", \"_aml_system_scenario_identification\": \"Remote.Parent\", \"ClientType\": \"SDK\", \"environment_cpu_name\": \"AzureML-AutoML\", \"environment_cpu_label\": \"prod\", \"environment_gpu_name\": \"AzureML-AutoML-GPU\", \"environment_gpu_label\": \"prod\", \"root_attribution\": \"automl\", \"attribution\": \"AutoML\", \"Orchestrator\": \"AutoML\", \"CancelUri\": \"https://koreacentral.api.azureml.ms/jasmine/v1.0/subscriptions/fe87babe-9ce9-43f8-b0aa-70603823aca8/resourceGroups/exercise_train_a_deep_neural_network/providers/Microsoft.MachineLearningServices/workspaces/exercise_deep_neural_network/experimentids/ad4dd737-ebc7-43c6-b930-51e2e7c7cd79/cancel/AutoML_6d605259-fabb-417e-b1a1-14fa32332859\", \"ClientSdkVersion\": \"1.46.1\", \"snapshotId\": \"00000000-0000-0000-0000-000000000000\", \"SetupRunId\": \"AutoML_6d605259-fabb-417e-b1a1-14fa32332859_setup\", \"SetupRunContainerId\": \"dcid.AutoML_6d605259-fabb-417e-b1a1-14fa32332859_setup\", \"FeaturizationRunJsonPath\": \"featurizer_container.json\", \"FeaturizationRunId\": \"AutoML_6d605259-fabb-417e-b1a1-14fa32332859_featurize\", \"ProblemInfoJsonString\": \"{\\\"dataset_num_categorical\\\": 0, \\\"is_sparse\\\": true, \\\"subsampling\\\": false, \\\"has_extra_col\\\": true, \\\"dataset_classes\\\": 2, \\\"dataset_features\\\": 23, \\\"dataset_samples\\\": 10458, \\\"single_frequency_class_detected\\\": false}\", \"ModelExplainRunId\": \"AutoML_6d605259-fabb-417e-b1a1-14fa32332859_ModelExplain\"}, \"tags\": {\"model_explain_run\": \"best_run\", \"_aml_system_automl_run_workspace_id\": \"485e4726-126f-4aa3-96ea-46e7eec8fc27\", \"_aml_system_azureml.automlComponent\": \"AutoML\", \"pipeline_id\": \"<c7af0367625be6ac5c2fecbfc72ed444cb7a2111>;<5dfac790c5c209f98a1da2dc1c7fb76f0397324f>;<__AutoML_Ensemble__>;<__AutoML_Stack_Ensemble__>;\", \"score\": \"<0.9919975776544208>;<0.9916932801615012>;<0.9921701418400241>;<0.9921422049233013>;\", \"predicted_cost\": \"<0>;<0>;<0>;<0>;\", \"fit_time\": \"<1.3550470000000001>;<0.248822>;<1>;<3>;\", \"training_percent\": \"<100>;<100>;<100>;<100>;\", \"iteration\": \"<1>;<0>;<2>;<3>;\", \"run_preprocessor\": \"<MaxAbsScaler>;<MaxAbsScaler>;<>;<>;\", \"run_algorithm\": \"<XGBoostClassifier>;<LightGBM>;<VotingEnsemble>;<StackEnsemble>;\", \"automl_best_child_run_id\": \"AutoML_6d605259-fabb-417e-b1a1-14fa32332859_2\"}, \"end_time_utc\": \"2022-10-16T09:55:30.968712Z\", \"status\": \"Completed\", \"log_files\": {}, \"log_groups\": [], \"run_duration\": \"0:06:15\", \"run_number\": \"1665913755\", \"run_queued_details\": {\"status\": \"Completed\", \"details\": null}}, \"child_runs\": [{\"run_id\": \"AutoML_6d605259-fabb-417e-b1a1-14fa32332859_setup\", \"run_number\": 1665913774, \"metric\": null, \"status\": \"Completed\", \"run_type\": \"azureml.scriptrun\", \"training_percent\": null, \"start_time\": \"2022-10-16T09:49:40.729763Z\", \"end_time\": \"2022-10-16T09:50:09.4954Z\", \"created_time\": \"2022-10-16T09:49:34.518586Z\", \"created_time_dt\": \"2022-10-16T09:49:34.518586Z\", \"duration\": \"0:00:34\", \"iteration\": null, \"goal\": null, \"run_name\": \"Completed\", \"run_properties\": null}, {\"run_id\": \"AutoML_6d605259-fabb-417e-b1a1-14fa32332859_featurize\", \"run_number\": 1665913809, \"metric\": null, \"status\": \"Completed\", \"run_type\": \"automl.featurization\", \"training_percent\": null, \"start_time\": \"2022-10-16T09:50:09.90066Z\", \"end_time\": \"2022-10-16T09:50:53.465043Z\", \"created_time\": \"2022-10-16T09:50:09.741845Z\", \"created_time_dt\": \"2022-10-16T09:50:09.741845Z\", \"duration\": \"0:00:43\", \"iteration\": null, \"goal\": null, \"run_name\": \"Completed\", \"run_properties\": null}, {\"run_id\": \"AutoML_6d605259-fabb-417e-b1a1-14fa32332859_worker_0\", \"run_number\": 1665913853, \"metric\": null, \"status\": \"Completed\", \"run_type\": \"azureml.scriptrun\", \"training_percent\": null, \"start_time\": \"2022-10-16T09:51:41.425081Z\", \"end_time\": \"2022-10-16T09:52:11.495031Z\", \"created_time\": \"2022-10-16T09:50:53.948864Z\", \"created_time_dt\": \"2022-10-16T09:50:53.948864Z\", \"duration\": \"0:01:17\", \"iteration\": null, \"goal\": null, \"run_name\": \"Completed\", \"run_properties\": null}, {\"run_id\": \"AutoML_6d605259-fabb-417e-b1a1-14fa32332859_worker_1\", \"run_number\": 1665913854, \"metric\": null, \"status\": \"Completed\", \"run_type\": \"azureml.scriptrun\", \"training_percent\": null, \"start_time\": \"2022-10-16T09:51:03.134264Z\", \"end_time\": \"2022-10-16T09:51:34.180303Z\", \"created_time\": \"2022-10-16T09:50:54.209878Z\", \"created_time_dt\": \"2022-10-16T09:50:54.209878Z\", \"duration\": \"0:00:39\", \"iteration\": null, \"goal\": null, \"run_name\": \"Completed\", \"run_properties\": null}, {\"run_id\": \"AutoML_6d605259-fabb-417e-b1a1-14fa32332859_2\", \"run_number\": 1665913926, \"metric\": null, \"status\": \"Completed\", \"run_type\": \"azureml.scriptrun\", \"training_percent\": \"100\", \"start_time\": \"2022-10-16T09:53:41.428902Z\", \"end_time\": \"2022-10-16T09:55:23.789246Z\", \"created_time\": \"2022-10-16T09:52:06.964401Z\", \"created_time_dt\": \"2022-10-16T09:52:06.964401Z\", \"duration\": \"0:03:16\", \"iteration\": \"2\", \"goal\": \"AUC_weighted_max\", \"run_name\": \"VotingEnsemble\", \"run_properties\": \"classification_labels=numpy.array([0, 1]\", \"primary_metric\": 0.99217014, \"best_metric\": 0.99217014}], \"children_metrics\": {\"categories\": [0], \"series\": {\"recall_score_micro\": [{\"categories\": [\"2\"], \"mode\": \"markers\", \"name\": \"recall_score_micro\", \"stepped\": false, \"type\": \"scatter\", \"data\": [0.9619110523998239]}, {\"categories\": [\"2\"], \"mode\": \"lines\", \"name\": \"recall_score_micro_max\", \"stepped\": true, \"type\": \"scatter\", \"data\": [0.9619110523998239]}], \"average_precision_score_macro\": [{\"categories\": [\"2\"], \"mode\": \"markers\", \"name\": \"average_precision_score_macro\", \"stepped\": false, \"type\": \"scatter\", \"data\": [0.9907038093756348]}, {\"categories\": [\"2\"], \"mode\": \"lines\", \"name\": \"average_precision_score_macro_max\", \"stepped\": true, \"type\": \"scatter\", \"data\": [0.9907038093756348]}], \"AUC_macro\": [{\"categories\": [\"2\"], \"mode\": \"markers\", \"name\": \"AUC_macro\", \"stepped\": false, \"type\": \"scatter\", \"data\": [0.9921701418400242]}, {\"categories\": [\"2\"], \"mode\": \"lines\", \"name\": \"AUC_macro_max\", \"stepped\": true, \"type\": \"scatter\", \"data\": [0.9921701418400242]}], \"weighted_accuracy\": [{\"categories\": [\"2\"], \"mode\": \"markers\", \"name\": \"weighted_accuracy\", \"stepped\": false, \"type\": \"scatter\", \"data\": [0.9667446548563369]}, {\"categories\": [\"2\"], \"mode\": \"lines\", \"name\": \"weighted_accuracy_max\", \"stepped\": true, \"type\": \"scatter\", \"data\": [0.9667446548563369]}], \"recall_score_macro\": [{\"categories\": [\"2\"], \"mode\": \"markers\", \"name\": \"recall_score_macro\", \"stepped\": false, \"type\": \"scatter\", \"data\": [0.9560301942195941]}, {\"categories\": [\"2\"], \"mode\": \"lines\", \"name\": \"recall_score_macro_max\", \"stepped\": true, \"type\": \"scatter\", \"data\": [0.9560301942195941]}], \"precision_score_weighted\": [{\"categories\": [\"2\"], \"mode\": \"markers\", \"name\": \"precision_score_weighted\", \"stepped\": false, \"type\": \"scatter\", \"data\": [0.9618293144899906]}, {\"categories\": [\"2\"], \"mode\": \"lines\", \"name\": \"precision_score_weighted_max\", \"stepped\": true, \"type\": \"scatter\", \"data\": [0.9618293144899906]}], \"average_precision_score_weighted\": [{\"categories\": [\"2\"], \"mode\": \"markers\", \"name\": \"average_precision_score_weighted\", \"stepped\": false, \"type\": \"scatter\", \"data\": [0.9923310428255883]}, {\"categories\": [\"2\"], \"mode\": \"lines\", \"name\": \"average_precision_score_weighted_max\", \"stepped\": true, \"type\": \"scatter\", \"data\": [0.9923310428255883]}], \"precision_score_micro\": [{\"categories\": [\"2\"], \"mode\": \"markers\", \"name\": \"precision_score_micro\", \"stepped\": false, \"type\": \"scatter\", \"data\": [0.9619110523998239]}, {\"categories\": [\"2\"], \"mode\": \"lines\", \"name\": \"precision_score_micro_max\", \"stepped\": true, \"type\": \"scatter\", \"data\": [0.9619110523998239]}], \"precision_score_macro\": [{\"categories\": [\"2\"], \"mode\": \"markers\", \"name\": \"precision_score_macro\", \"stepped\": false, \"type\": \"scatter\", \"data\": [0.9593061007516636]}, {\"categories\": [\"2\"], \"mode\": \"lines\", \"name\": \"precision_score_macro_max\", \"stepped\": true, \"type\": \"scatter\", \"data\": [0.9593061007516636]}], \"f1_score_macro\": [{\"categories\": [\"2\"], \"mode\": \"markers\", \"name\": \"f1_score_macro\", \"stepped\": false, \"type\": \"scatter\", \"data\": [0.9576349715851422]}, {\"categories\": [\"2\"], \"mode\": \"lines\", \"name\": \"f1_score_macro_max\", \"stepped\": true, \"type\": \"scatter\", \"data\": [0.9576349715851422]}], \"matthews_correlation\": [{\"categories\": [\"2\"], \"mode\": \"markers\", \"name\": \"matthews_correlation\", \"stepped\": false, \"type\": \"scatter\", \"data\": [0.9153304328646035]}, {\"categories\": [\"2\"], \"mode\": \"lines\", \"name\": \"matthews_correlation_max\", \"stepped\": true, \"type\": \"scatter\", \"data\": [0.9153304328646035]}], \"f1_score_micro\": [{\"categories\": [\"2\"], \"mode\": \"markers\", \"name\": \"f1_score_micro\", \"stepped\": false, \"type\": \"scatter\", \"data\": [0.9619110523998239]}, {\"categories\": [\"2\"], \"mode\": \"lines\", \"name\": \"f1_score_micro_max\", \"stepped\": true, \"type\": \"scatter\", \"data\": [0.9619110523998239]}], \"f1_score_weighted\": [{\"categories\": [\"2\"], \"mode\": \"markers\", \"name\": \"f1_score_weighted\", \"stepped\": false, \"type\": \"scatter\", \"data\": [0.9618428958795621]}, {\"categories\": [\"2\"], \"mode\": \"lines\", \"name\": \"f1_score_weighted_max\", \"stepped\": true, \"type\": \"scatter\", \"data\": [0.9618428958795621]}], \"accuracy\": [{\"categories\": [\"2\"], \"mode\": \"markers\", \"name\": \"accuracy\", \"stepped\": false, \"type\": \"scatter\", \"data\": [0.9619110523998239]}, {\"categories\": [\"2\"], \"mode\": \"lines\", \"name\": \"accuracy_max\", \"stepped\": true, \"type\": \"scatter\", \"data\": [0.9619110523998239]}], \"AUC_weighted\": [{\"categories\": [\"2\"], \"mode\": \"markers\", \"name\": \"AUC_weighted\", \"stepped\": false, \"type\": \"scatter\", \"data\": [0.9921701418400241]}, {\"categories\": [\"2\"], \"mode\": \"lines\", \"name\": \"AUC_weighted_max\", \"stepped\": true, \"type\": \"scatter\", \"data\": [0.9921701418400241]}], \"recall_score_weighted\": [{\"categories\": [\"2\"], \"mode\": \"markers\", \"name\": \"recall_score_weighted\", \"stepped\": false, \"type\": \"scatter\", \"data\": [0.9619110523998239]}, {\"categories\": [\"2\"], \"mode\": \"lines\", \"name\": \"recall_score_weighted_max\", \"stepped\": true, \"type\": \"scatter\", \"data\": [0.9619110523998239]}], \"norm_macro_recall\": [{\"categories\": [\"2\"], \"mode\": \"markers\", \"name\": \"norm_macro_recall\", \"stepped\": false, \"type\": \"scatter\", \"data\": [0.9120603884391882]}, {\"categories\": [\"2\"], \"mode\": \"lines\", \"name\": \"norm_macro_recall_max\", \"stepped\": true, \"type\": \"scatter\", \"data\": [0.9120603884391882]}], \"AUC_micro\": [{\"categories\": [\"2\"], \"mode\": \"markers\", \"name\": \"AUC_micro\", \"stepped\": false, \"type\": \"scatter\", \"data\": [0.9929096135079392]}, {\"categories\": [\"2\"], \"mode\": \"lines\", \"name\": \"AUC_micro_max\", \"stepped\": true, \"type\": \"scatter\", \"data\": [0.9929096135079392]}], \"balanced_accuracy\": [{\"categories\": [\"2\"], \"mode\": \"markers\", \"name\": \"balanced_accuracy\", \"stepped\": false, \"type\": \"scatter\", \"data\": [0.9560301942195941]}, {\"categories\": [\"2\"], \"mode\": \"lines\", \"name\": \"balanced_accuracy_max\", \"stepped\": true, \"type\": \"scatter\", \"data\": [0.9560301942195941]}], \"log_loss\": [{\"categories\": [\"2\"], \"mode\": \"markers\", \"name\": \"log_loss\", \"stepped\": false, \"type\": \"scatter\", \"data\": [0.1053382144791426]}, {\"categories\": [\"2\"], \"mode\": \"lines\", \"name\": \"log_loss_min\", \"stepped\": true, \"type\": \"scatter\", \"data\": [0.1053382144791426]}], \"average_precision_score_micro\": [{\"categories\": [\"2\"], \"mode\": \"markers\", \"name\": \"average_precision_score_micro\", \"stepped\": false, \"type\": \"scatter\", \"data\": [0.9930387904451217]}, {\"categories\": [\"2\"], \"mode\": \"lines\", \"name\": \"average_precision_score_micro_max\", \"stepped\": true, \"type\": \"scatter\", \"data\": [0.9930387904451217]}]}, \"metricName\": null, \"primaryMetricName\": \"AUC_weighted\", \"showLegend\": false}, \"run_metrics\": [{\"name\": \"experiment_status\", \"run_id\": \"AutoML_6d605259-fabb-417e-b1a1-14fa32332859\", \"categories\": [0, 1, 2, 3, 4], \"series\": [{\"data\": [\"DatasetEvaluation\", \"FeaturesGeneration\", \"DatasetFeaturization\", \"DatasetFeaturizationCompleted\", \"ModelSelection\"]}]}, {\"name\": \"experiment_status_description\", \"run_id\": \"AutoML_6d605259-fabb-417e-b1a1-14fa32332859\", \"categories\": [0, 1, 2, 3, 4], \"series\": [{\"data\": [\"Gathering dataset statistics.\", \"Generating features for the dataset.\", \"Beginning to fit featurizers and featurize the dataset.\", \"Completed fit featurizers and featurizing the dataset.\", \"Beginning model selection.\"]}]}, {\"name\": \"average_precision_score_micro\", \"run_id\": \"AutoML_6d605259-fabb-417e-b1a1-14fa32332859\", \"categories\": [0], \"series\": [{\"data\": [0.9930387904451217]}]}, {\"name\": \"log_loss\", \"run_id\": \"AutoML_6d605259-fabb-417e-b1a1-14fa32332859\", \"categories\": [0], \"series\": [{\"data\": [0.1053382144791426]}]}, {\"name\": \"balanced_accuracy\", \"run_id\": \"AutoML_6d605259-fabb-417e-b1a1-14fa32332859\", \"categories\": [0], \"series\": [{\"data\": [0.9560301942195941]}]}, {\"name\": \"AUC_micro\", \"run_id\": \"AutoML_6d605259-fabb-417e-b1a1-14fa32332859\", \"categories\": [0], \"series\": [{\"data\": [0.9929096135079392]}]}, {\"name\": \"recall_score_weighted\", \"run_id\": \"AutoML_6d605259-fabb-417e-b1a1-14fa32332859\", \"categories\": [0], \"series\": [{\"data\": [0.9619110523998239]}]}, {\"name\": \"matthews_correlation\", \"run_id\": \"AutoML_6d605259-fabb-417e-b1a1-14fa32332859\", \"categories\": [0], \"series\": [{\"data\": [0.9153304328646035]}]}, {\"name\": \"AUC_weighted\", \"run_id\": \"AutoML_6d605259-fabb-417e-b1a1-14fa32332859\", \"categories\": [0], \"series\": [{\"data\": [0.9921701418400241]}]}, {\"name\": \"precision_score_weighted\", \"run_id\": \"AutoML_6d605259-fabb-417e-b1a1-14fa32332859\", \"categories\": [0], \"series\": [{\"data\": [0.9618293144899906]}]}, {\"name\": \"accuracy\", \"run_id\": \"AutoML_6d605259-fabb-417e-b1a1-14fa32332859\", \"categories\": [0], \"series\": [{\"data\": [0.9619110523998239]}]}, {\"name\": \"f1_score_macro\", \"run_id\": \"AutoML_6d605259-fabb-417e-b1a1-14fa32332859\", \"categories\": [0], \"series\": [{\"data\": [0.9576349715851422]}]}, {\"name\": \"f1_score_micro\", \"run_id\": \"AutoML_6d605259-fabb-417e-b1a1-14fa32332859\", \"categories\": [0], \"series\": [{\"data\": [0.9619110523998239]}]}, {\"name\": \"average_precision_score_weighted\", \"run_id\": \"AutoML_6d605259-fabb-417e-b1a1-14fa32332859\", \"categories\": [0], \"series\": [{\"data\": [0.9923310428255883]}]}, {\"name\": \"f1_score_weighted\", \"run_id\": \"AutoML_6d605259-fabb-417e-b1a1-14fa32332859\", \"categories\": [0], \"series\": [{\"data\": [0.9618428958795621]}]}, {\"name\": \"precision_score_macro\", \"run_id\": \"AutoML_6d605259-fabb-417e-b1a1-14fa32332859\", \"categories\": [0], \"series\": [{\"data\": [0.9593061007516636]}]}, {\"name\": \"AUC_macro\", \"run_id\": \"AutoML_6d605259-fabb-417e-b1a1-14fa32332859\", \"categories\": [0], \"series\": [{\"data\": [0.9921701418400242]}]}, {\"name\": \"precision_score_micro\", \"run_id\": \"AutoML_6d605259-fabb-417e-b1a1-14fa32332859\", \"categories\": [0], \"series\": [{\"data\": [0.9619110523998239]}]}, {\"name\": \"weighted_accuracy\", \"run_id\": \"AutoML_6d605259-fabb-417e-b1a1-14fa32332859\", \"categories\": [0], \"series\": [{\"data\": [0.9667446548563369]}]}, {\"name\": \"recall_score_macro\", \"run_id\": \"AutoML_6d605259-fabb-417e-b1a1-14fa32332859\", \"categories\": [0], \"series\": [{\"data\": [0.9560301942195941]}]}, {\"name\": \"recall_score_micro\", \"run_id\": \"AutoML_6d605259-fabb-417e-b1a1-14fa32332859\", \"categories\": [0], \"series\": [{\"data\": [0.9619110523998239]}]}, {\"name\": \"norm_macro_recall\", \"run_id\": \"AutoML_6d605259-fabb-417e-b1a1-14fa32332859\", \"categories\": [0], \"series\": [{\"data\": [0.9120603884391882]}]}, {\"name\": \"average_precision_score_macro\", \"run_id\": \"AutoML_6d605259-fabb-417e-b1a1-14fa32332859\", \"categories\": [0], \"series\": [{\"data\": [0.9907038093756348]}]}], \"run_logs\": \"\\nRun is completed.\", \"graph\": {}, \"widget_settings\": {\"childWidgetDisplay\": \"popup\", \"send_telemetry\": false, \"log_level\": \"INFO\", \"sdk_version\": \"1.44.0\"}, \"loading\": false}"
          },
          "metadata": {}
        },
        {
          "output_type": "display_data",
          "data": {
            "text/plain": "<IPython.core.display.HTML object>",
            "text/html": "<table style=\"width:100%\"><tr><th>Experiment</th><th>Id</th><th>Type</th><th>Status</th><th>Details Page</th><th>Docs Page</th></tr><tr><td>mslearn-diabetes-automl-sdk</td><td>AutoML_6d605259-fabb-417e-b1a1-14fa32332859</td><td>automl</td><td>NotStarted</td><td><a href=\"https://ml.azure.com/runs/AutoML_6d605259-fabb-417e-b1a1-14fa32332859?wsid=/subscriptions/fe87babe-9ce9-43f8-b0aa-70603823aca8/resourcegroups/exercise_train_a_deep_neural_network/workspaces/exercise_deep_neural_network&amp;tid=d6755233-46af-4030-8906-057bd29a9ee8\" target=\"_blank\" rel=\"noopener\">Link to Azure Machine Learning studio</a></td><td><a href=\"https://docs.microsoft.com/en-us/python/api/overview/azure/ml/intro?view=azure-ml-py\" target=\"_blank\" rel=\"noopener\">Link to Documentation</a></td></tr></table>"
          },
          "metadata": {}
        },
        {
          "output_type": "stream",
          "name": "stdout",
          "text": "\nCurrent status: FeaturesGeneration. Generating features for the dataset.\nCurrent status: DatasetFeaturizationCompleted. Completed fit featurizers and featurizing the dataset.\nCurrent status: ModelSelection. Beginning model selection.\n\n********************************************************************************************\nDATA GUARDRAILS: \n\nTYPE:         Class balancing detection\nSTATUS:       PASSED\nDESCRIPTION:  Your inputs were analyzed, and all classes are balanced in your training data.\n              Learn more about imbalanced data: https://aka.ms/AutomatedMLImbalancedData\n\n********************************************************************************************\n\nTYPE:         Missing feature values imputation\nSTATUS:       PASSED\nDESCRIPTION:  No feature missing values were detected in the training data.\n              Learn more about missing value imputation: https://aka.ms/AutomatedMLFeaturization\n\n********************************************************************************************\n\nTYPE:         High cardinality feature detection\nSTATUS:       PASSED\nDESCRIPTION:  Your inputs were analyzed, and no high cardinality features were detected.\n              Learn more about high cardinality feature handling: https://aka.ms/AutomatedMLFeaturization\n\n********************************************************************************************\n\n********************************************************************************************\nITER: The iteration being evaluated.\nPIPELINE: A summary description of the pipeline being evaluated.\nDURATION: Time taken for the current iteration.\nMETRIC: The result of computing score on the fitted pipeline.\nBEST: The best observed score thus far.\n********************************************************************************************\n\n ITER   PIPELINE                                       DURATION            METRIC      BEST\n    1   MaxAbsScaler XGBoostClassifier                 0:00:17             0.9920    0.9920\n    0   MaxAbsScaler LightGBM                          0:00:16             0.9917    0.9920\n    2    VotingEnsemble                                0:01:42             0.9922    0.9922\n    3    StackEnsemble                                 0:01:33             0.9921    0.9922\n"
        },
        {
          "output_type": "execute_result",
          "execution_count": 17,
          "data": {
            "text/plain": "{'runId': 'AutoML_6d605259-fabb-417e-b1a1-14fa32332859',\n 'target': 'your-compute-cluster',\n 'status': 'Completed',\n 'startTimeUtc': '2022-10-16T09:49:35.274022Z',\n 'endTimeUtc': '2022-10-16T09:55:30.968712Z',\n 'services': {},\n 'properties': {'num_iterations': '4',\n  'training_type': 'TrainFull',\n  'acquisition_function': 'EI',\n  'primary_metric': 'AUC_weighted',\n  'train_split': '0',\n  'acquisition_parameter': '0',\n  'num_cross_validation': None,\n  'target': 'your-compute-cluster',\n  'AMLSettingsJsonString': '{\"path\":null,\"name\":\"Automated ML Experiment\",\"subscription_id\":\"fe87babe-9ce9-43f8-b0aa-70603823aca8\",\"resource_group\":\"exercise_train_a_deep_neural_network\",\"workspace_name\":\"exercise_deep_neural_network\",\"region\":\"koreacentral\",\"compute_target\":\"your-compute-cluster\",\"spark_service\":null,\"azure_service\":\"remote\",\"many_models\":false,\"pipeline_fetch_max_batch_size\":1,\"enable_batch_run\":true,\"enable_run_restructure\":false,\"start_auxiliary_runs_before_parent_complete\":false,\"enable_code_generation\":true,\"iterations\":4,\"primary_metric\":\"AUC_weighted\",\"task_type\":\"classification\",\"positive_label\":null,\"data_script\":null,\"test_size\":0.0,\"test_include_predictions_only\":false,\"validation_size\":0.0,\"n_cross_validations\":null,\"y_min\":null,\"y_max\":null,\"num_classes\":null,\"featurization\":\"auto\",\"_ignore_package_version_incompatibilities\":false,\"is_timeseries\":false,\"max_cores_per_iteration\":1,\"max_concurrent_iterations\":2,\"iteration_timeout_minutes\":null,\"mem_in_mb\":null,\"enforce_time_on_windows\":false,\"experiment_timeout_minutes\":8640,\"experiment_exit_score\":null,\"partition_column_names\":null,\"whitelist_models\":null,\"blacklist_algos\":[\"TensorFlowLinearClassifier\",\"TensorFlowDNN\"],\"supported_models\":[\"LogisticRegression\",\"DecisionTree\",\"SGD\",\"BernoulliNaiveBayes\",\"SVM\",\"TensorFlowDNN\",\"TabnetClassifier\",\"RandomForest\",\"XGBoostClassifier\",\"TensorFlowLinearClassifier\",\"ExtremeRandomTrees\",\"AveragedPerceptronClassifier\",\"GradientBoosting\",\"MultinomialNaiveBayes\",\"KNN\",\"LinearSVM\",\"LightGBM\"],\"private_models\":[],\"auto_blacklist\":true,\"blacklist_samples_reached\":false,\"exclude_nan_labels\":true,\"verbosity\":20,\"_debug_log\":\"azureml_automl.log\",\"show_warnings\":false,\"model_explainability\":true,\"service_url\":null,\"sdk_url\":null,\"sdk_packages\":null,\"enable_onnx_compatible_models\":false,\"enable_split_onnx_featurizer_estimator_models\":false,\"vm_type\":\"STANDARD_DS11_V2\",\"telemetry_verbosity\":20,\"send_telemetry\":true,\"enable_dnn\":false,\"scenario\":\"AutoML\",\"environment_label\":null,\"save_mlflow\":false,\"enable_categorical_indicators\":false,\"force_text_dnn\":false,\"enable_feature_sweeping\":true,\"enable_early_stopping\":true,\"early_stopping_n_iters\":10,\"arguments\":null,\"dataset_id\":\"a9b15f05-86ad-42db-bce6-d171fc599eac\",\"hyperdrive_config\":null,\"validation_dataset_id\":\"b328fabd-b269-41a1-a3c1-8abe50d8918b\",\"run_source\":null,\"metrics\":null,\"enable_metric_confidence\":false,\"enable_ensembling\":true,\"enable_stack_ensembling\":true,\"ensemble_iterations\":4,\"enable_tf\":false,\"enable_subsampling\":false,\"subsample_seed\":null,\"enable_nimbusml\":false,\"enable_streaming\":false,\"force_streaming\":false,\"track_child_runs\":true,\"allowed_private_models\":[],\"label_column_name\":\"Diabetic\",\"weight_column_name\":null,\"cv_split_column_names\":null,\"enable_local_managed\":false,\"_local_managed_run_id\":null,\"cost_mode\":1,\"lag_length\":0,\"metric_operation\":\"maximize\",\"preprocess\":true}',\n  'DataPrepJsonString': '{\\\\\"training_data\\\\\": {\\\\\"datasetId\\\\\": \\\\\"a9b15f05-86ad-42db-bce6-d171fc599eac\\\\\"}, \\\\\"validation_data\\\\\": {\\\\\"datasetId\\\\\": \\\\\"b328fabd-b269-41a1-a3c1-8abe50d8918b\\\\\"}, \\\\\"datasets\\\\\": 0}',\n  'EnableSubsampling': 'False',\n  'runTemplate': 'AutoML',\n  'azureml.runsource': 'automl',\n  'display_task_type': 'classification',\n  'dependencies_versions': '{\"azureml-widgets\": \"1.44.0\", \"azureml-training-tabular\": \"1.44.0\", \"azureml-train\": \"1.44.0\", \"azureml-train-restclients-hyperdrive\": \"1.44.0\", \"azureml-train-core\": \"1.44.0\", \"azureml-train-automl\": \"1.44.0\", \"azureml-train-automl-runtime\": \"1.44.0\", \"azureml-train-automl-client\": \"1.44.0\", \"azureml-tensorboard\": \"1.44.0\", \"azureml-telemetry\": \"1.44.0\", \"azureml-sdk\": \"1.44.0\", \"azureml-samples\": \"0+unknown\", \"azureml-responsibleai\": \"1.44.0\", \"azureml-pipeline\": \"1.44.0\", \"azureml-pipeline-steps\": \"1.44.0\", \"azureml-pipeline-core\": \"1.44.0\", \"azureml-opendatasets\": \"1.44.0\", \"azureml-mlflow\": \"1.44.0\", \"azureml-interpret\": \"1.44.0\", \"azureml-inference-server-http\": \"0.7.4\", \"azureml-explain-model\": \"1.44.0\", \"azureml-defaults\": \"1.44.0\", \"azureml-dataset-runtime\": \"1.44.0\", \"azureml-dataprep\": \"4.2.2\", \"azureml-dataprep-rslex\": \"2.8.1\", \"azureml-dataprep-native\": \"38.0.0\", \"azureml-datadrift\": \"1.44.0\", \"azureml-core\": \"1.44.0\", \"azureml-contrib-services\": \"1.44.0\", \"azureml-contrib-server\": \"1.44.0\", \"azureml-contrib-reinforcementlearning\": \"1.44.0\", \"azureml-contrib-pipeline-steps\": \"1.44.0\", \"azureml-contrib-notebook\": \"1.44.0\", \"azureml-contrib-fairness\": \"1.44.0\", \"azureml-contrib-dataset\": \"1.44.0\", \"azureml-contrib-automl-pipeline-steps\": \"1.44.0\", \"azureml-cli-common\": \"1.44.0\", \"azureml-automl-runtime\": \"1.44.0\", \"azureml-automl-dnn-nlp\": \"1.44.0\", \"azureml-automl-core\": \"1.44.0\", \"azureml-accel-models\": \"1.44.0\"}',\n  '_aml_system_scenario_identification': 'Remote.Parent',\n  'ClientType': 'SDK',\n  'environment_cpu_name': 'AzureML-AutoML',\n  'environment_cpu_label': 'prod',\n  'environment_gpu_name': 'AzureML-AutoML-GPU',\n  'environment_gpu_label': 'prod',\n  'root_attribution': 'automl',\n  'attribution': 'AutoML',\n  'Orchestrator': 'AutoML',\n  'CancelUri': 'https://koreacentral.api.azureml.ms/jasmine/v1.0/subscriptions/fe87babe-9ce9-43f8-b0aa-70603823aca8/resourceGroups/exercise_train_a_deep_neural_network/providers/Microsoft.MachineLearningServices/workspaces/exercise_deep_neural_network/experimentids/ad4dd737-ebc7-43c6-b930-51e2e7c7cd79/cancel/AutoML_6d605259-fabb-417e-b1a1-14fa32332859',\n  'ClientSdkVersion': '1.46.1',\n  'snapshotId': '00000000-0000-0000-0000-000000000000',\n  'SetupRunId': 'AutoML_6d605259-fabb-417e-b1a1-14fa32332859_setup',\n  'SetupRunContainerId': 'dcid.AutoML_6d605259-fabb-417e-b1a1-14fa32332859_setup',\n  'FeaturizationRunJsonPath': 'featurizer_container.json',\n  'FeaturizationRunId': 'AutoML_6d605259-fabb-417e-b1a1-14fa32332859_featurize',\n  'ProblemInfoJsonString': '{\"dataset_num_categorical\": 0, \"is_sparse\": true, \"subsampling\": false, \"has_extra_col\": true, \"dataset_classes\": 2, \"dataset_features\": 23, \"dataset_samples\": 10458, \"single_frequency_class_detected\": false}',\n  'ModelExplainRunId': 'AutoML_6d605259-fabb-417e-b1a1-14fa32332859_ModelExplain'},\n 'inputDatasets': [{'dataset': {'id': 'a9b15f05-86ad-42db-bce6-d171fc599eac'}, 'consumptionDetails': {'type': 'RunInput', 'inputName': 'training_data', 'mechanism': 'Direct'}}, {'dataset': {'id': 'b328fabd-b269-41a1-a3c1-8abe50d8918b'}, 'consumptionDetails': {'type': 'RunInput', 'inputName': 'validation_data', 'mechanism': 'Direct'}}],\n 'outputDatasets': [],\n 'logFiles': {},\n 'submittedBy': '형진 김'}"
          },
          "metadata": {}
        }
      ],
      "execution_count": 17,
      "metadata": {
        "scrolled": true,
        "vscode": {
          "languageId": "python"
        },
        "gather": {
          "logged": 1665914144966
        }
      }
    },
    {
      "cell_type": "markdown",
      "source": [
        "## View child run details\n",
        "\n",
        "When the experiment has completed, view the output in the widget, and click the run that produced the best result to see its details.\n",
        "\n",
        "Then click the link to view the experiment details in Azure Machine Learning studio and view the overall experiment details before viewing the details for the individual run that produced the best result. There's lots of information here about the performance of the model generated.\n",
        "\n",
        "You can also retrieve all of the child runs and view their metrics using the SDK:"
      ],
      "metadata": {}
    },
    {
      "cell_type": "code",
      "source": [
        "for run in automl_run.get_children():\n",
        "    print('Run ID', run.id)\n",
        "    for metric in run.get_metrics():\n",
        "        print('\\t', run.get_metrics(metric))"
      ],
      "outputs": [
        {
          "output_type": "stream",
          "name": "stdout",
          "text": "Run ID AutoML_6d605259-fabb-417e-b1a1-14fa32332859_3\n\t {'precision_score_micro': 0.6563188022897402}\n\t {'norm_macro_recall': 0.0}\n\t {'precision_score_weighted': 0.43075437023903906}\n\t {'balanced_accuracy': 0.5}\n\t {'weighted_accuracy': 0.7848005516519265}\n\t {'average_precision_score_micro': 0.8948375348791482}\n\t {'f1_score_macro': 0.3962514954140635}\n\t {'average_precision_score_macro': 0.9906848213620847}\n\t {'matthews_correlation': 0.0}\n\t {'precision_score_macro': 0.3281594011448701}\n\t {'log_loss': 0.6289225950985838}\n\t {'recall_score_weighted': 0.6563188022897402}\n\t {'AUC_macro': 0.9921422049233013}\n\t {'AUC_weighted': 0.9921422049233013}\n\t {'AUC_micro': 0.8783383561731487}\n\t {'f1_score_micro': 0.6563188022897402}\n\t {'recall_score_macro': 0.5}\n\t {'recall_score_micro': 0.6563188022897402}\n\t {'average_precision_score_weighted': 0.9923122055345428}\n\t {'f1_score_weighted': 0.5201346137513533}\n\t {'accuracy': 0.6563188022897402}\n\t {'accuracy_table': 'aml://artifactId/ExperimentRun/dcid.AutoML_6d605259-fabb-417e-b1a1-14fa32332859_3/accuracy_table'}\n\t {'confusion_matrix': 'aml://artifactId/ExperimentRun/dcid.AutoML_6d605259-fabb-417e-b1a1-14fa32332859_3/confusion_matrix'}\nRun ID AutoML_6d605259-fabb-417e-b1a1-14fa32332859_2\n\t {'recall_score_micro': 0.9619110523998239}\n\t {'average_precision_score_macro': 0.9907038093756348}\n\t {'AUC_macro': 0.9921701418400242}\n\t {'weighted_accuracy': 0.9667446548563369}\n\t {'recall_score_macro': 0.9560301942195941}\n\t {'precision_score_weighted': 0.9618293144899906}\n\t {'average_precision_score_weighted': 0.9923310428255883}\n\t {'precision_score_micro': 0.9619110523998239}\n\t {'precision_score_macro': 0.9593061007516636}\n\t {'f1_score_macro': 0.9576349715851422}\n\t {'matthews_correlation': 0.9153304328646035}\n\t {'f1_score_micro': 0.9619110523998239}\n\t {'f1_score_weighted': 0.9618428958795621}\n\t {'accuracy': 0.9619110523998239}\n\t {'AUC_weighted': 0.9921701418400241}\n\t {'recall_score_weighted': 0.9619110523998239}\n\t {'norm_macro_recall': 0.9120603884391882}\n\t {'AUC_micro': 0.9929096135079392}\n\t {'balanced_accuracy': 0.9560301942195941}\n\t {'log_loss': 0.1053382144791426}\n\t {'average_precision_score_micro': 0.9930387904451217}\n\t {'confusion_matrix': 'aml://artifactId/ExperimentRun/dcid.AutoML_6d605259-fabb-417e-b1a1-14fa32332859_2/confusion_matrix'}\n\t {'accuracy_table': 'aml://artifactId/ExperimentRun/dcid.AutoML_6d605259-fabb-417e-b1a1-14fa32332859_2/accuracy_table'}\nRun ID AutoML_6d605259-fabb-417e-b1a1-14fa32332859_0\n\t {'average_precision_score_micro': 0.9925872478423031}\n\t {'precision_score_weighted': 0.9581140611072926}\n\t {'f1_score_macro': 0.9535654390583649}\n\t {'f1_score_micro': 0.9581682078379569}\n\t {'precision_score_micro': 0.9581682078379569}\n\t {'weighted_accuracy': 0.9625199216962308}\n\t {'AUC_macro': 0.9916932801615013}\n\t {'balanced_accuracy': 0.9528736449789517}\n\t {'accuracy': 0.9581682078379569}\n\t {'AUC_micro': 0.992440824819906}\n\t {'precision_score_macro': 0.9542696432301417}\n\t {'AUC_weighted': 0.9916932801615012}\n\t {'matthews_correlation': 0.907142214061108}\n\t {'recall_score_weighted': 0.9581682078379569}\n\t {'recall_score_micro': 0.9581682078379569}\n\t {'average_precision_score_macro': 0.9902137638352239}\n\t {'f1_score_weighted': 0.958136020643694}\n\t {'recall_score_macro': 0.9528736449789517}\n\t {'norm_macro_recall': 0.9057472899579033}\n\t {'log_loss': 0.11032196337452847}\n\t {'average_precision_score_weighted': 0.9919129317218731}\n\t {'confusion_matrix': 'aml://artifactId/ExperimentRun/dcid.AutoML_6d605259-fabb-417e-b1a1-14fa32332859_0/confusion_matrix'}\n\t {'accuracy_table': 'aml://artifactId/ExperimentRun/dcid.AutoML_6d605259-fabb-417e-b1a1-14fa32332859_0/accuracy_table'}\nRun ID AutoML_6d605259-fabb-417e-b1a1-14fa32332859_worker_0\nRun ID AutoML_6d605259-fabb-417e-b1a1-14fa32332859_1\n\t {'average_precision_score_macro': 0.9905853267436875}\n\t {'log_loss': 0.10863962362690686}\n\t {'norm_macro_recall': 0.9075457826967763}\n\t {'AUC_micro': 0.9927272556292936}\n\t {'recall_score_macro': 0.9537728913483882}\n\t {'f1_score_micro': 0.9601497137824747}\n\t {'weighted_accuracy': 0.9653909598111184}\n\t {'matthews_correlation': 0.911379775244596}\n\t {'precision_score_macro': 0.957614982385087}\n\t {'recall_score_weighted': 0.9601497137824747}\n\t {'accuracy': 0.9601497137824747}\n\t {'AUC_macro': 0.9919975776544208}\n\t {'f1_score_weighted': 0.9600657196838577}\n\t {'average_precision_score_micro': 0.9928709144490298}\n\t {'recall_score_micro': 0.9601497137824747}\n\t {'precision_score_micro': 0.9601497137824747}\n\t {'AUC_weighted': 0.9919975776544208}\n\t {'balanced_accuracy': 0.9537728913483882}\n\t {'average_precision_score_weighted': 0.9922191569444292}\n\t {'f1_score_macro': 0.9556482522751053}\n\t {'precision_score_weighted': 0.9600568538805352}\n\t {'accuracy_table': 'aml://artifactId/ExperimentRun/dcid.AutoML_6d605259-fabb-417e-b1a1-14fa32332859_1/accuracy_table'}\n\t {'confusion_matrix': 'aml://artifactId/ExperimentRun/dcid.AutoML_6d605259-fabb-417e-b1a1-14fa32332859_1/confusion_matrix'}\nRun ID AutoML_6d605259-fabb-417e-b1a1-14fa32332859_worker_1\nRun ID AutoML_6d605259-fabb-417e-b1a1-14fa32332859_featurize\nRun ID AutoML_6d605259-fabb-417e-b1a1-14fa32332859_setup\n"
        }
      ],
      "execution_count": 18,
      "metadata": {
        "vscode": {
          "languageId": "python"
        },
        "gather": {
          "logged": 1665914161193
        }
      }
    },
    {
      "cell_type": "markdown",
      "source": [
        "## Get the best run\n",
        "\n",
        "You can retrieve the best-performing run, and view its details like this:"
      ],
      "metadata": {}
    },
    {
      "cell_type": "code",
      "source": [
        "best_run, fitted_model = automl_run.get_output()\n",
        "print(best_run)\n",
        "print('\\nBest Model Definition:')\n",
        "print(fitted_model)\n",
        "print('\\nBest Run Transformations:')\n",
        "for step in fitted_model.named_steps:\n",
        "    print(step)\n",
        "print('\\nBest Run Metrics:')\n",
        "best_run_metrics = best_run.get_metrics()\n",
        "for metric_name in best_run_metrics:\n",
        "    metric = best_run_metrics[metric_name]\n",
        "    print(metric_name, metric)"
      ],
      "outputs": [
        {
          "output_type": "stream",
          "name": "stderr",
          "text": "WARNING:root:The version of the SDK does not match the version the model was trained on.\nWARNING:root:The consistency in the result may not be guaranteed.\nWARNING:root:Package:azureml-automl-core, training version:1.46.1, current version:1.44.0\nPackage:azureml-automl-runtime, training version:1.46.1, current version:1.44.0\nPackage:azureml-core, training version:1.46.0, current version:1.44.0\nPackage:azureml-dataprep, training version:4.5.7, current version:4.2.2\nPackage:azureml-dataprep-rslex, training version:2.11.4, current version:2.8.1\nPackage:azureml-dataset-runtime, training version:1.46.0, current version:1.44.0\nPackage:azureml-defaults, training version:1.46.0, current version:1.44.0\nPackage:azureml-interpret, training version:1.46.0, current version:1.44.0\nPackage:azureml-mlflow, training version:1.46.0, current version:1.44.0\nPackage:azureml-pipeline-core, training version:1.46.0, current version:1.44.0\nPackage:azureml-responsibleai, training version:1.46.0, current version:1.44.0\nPackage:azureml-telemetry, training version:1.46.0, current version:1.44.0\nPackage:azureml-train-automl-client, training version:1.46.0, current version:1.44.0\nPackage:azureml-train-automl-runtime, training version:1.46.1, current version:1.44.0\nPackage:azureml-train-core, training version:1.46.0, current version:1.44.0\nPackage:azureml-train-restclients-hyperdrive, training version:1.46.0, current version:1.44.0\nPackage:azureml-training-tabular, training version:1.46.1, current version:1.44.0\nWARNING:root:Please ensure the version of your local conda dependencies match the version on which your model was trained in order to properly retrieve your model.\n"
        },
        {
          "output_type": "stream",
          "name": "stdout",
          "text": "Run(Experiment: mslearn-diabetes-automl-sdk,\nId: AutoML_6d605259-fabb-417e-b1a1-14fa32332859_2,\nType: azureml.scriptrun,\nStatus: Completed)\n\nBest Model Definition:\nPipeline(memory=None,\n         steps=[('datatransformer',\n                 DataTransformer(enable_dnn=False, enable_feature_sweeping=True, feature_sweeping_config={}, feature_sweeping_timeout=86400, featurization_config=None, force_text_dnn=False, is_cross_validation=False, is_onnx_compatible=False, observer=None, task='classification', working_dir='/mnt/batch/tasks/shared/LS_root/moun...\n                                                           ('0',\n                                                            Pipeline(memory=None,\n                                                                     steps=[('maxabsscaler',\n                                                                             MaxAbsScaler(copy=True)),\n                                                                            ('lightgbmclassifier',\n                                                                             LightGBMClassifier(min_data_in_leaf=20, n_jobs=1, problem_info=ProblemInfo(gpu_training_param_dict={'processing_unit_type': 'cpu'}), random_state=None))],\n                                                                     verbose=False))],\n                                               flatten_transform=None,\n                                               weights=[0.6666666666666666,\n                                                        0.3333333333333333]))],\n         verbose=False)\n\nBest Run Transformations:\ndatatransformer\nprefittedsoftvotingclassifier\n\nBest Run Metrics:\nrecall_score_micro 0.9619110523998239\naverage_precision_score_macro 0.9907038093756348\nAUC_macro 0.9921701418400242\nweighted_accuracy 0.9667446548563369\nrecall_score_macro 0.9560301942195941\nprecision_score_weighted 0.9618293144899906\naverage_precision_score_weighted 0.9923310428255883\nprecision_score_micro 0.9619110523998239\nprecision_score_macro 0.9593061007516636\nf1_score_macro 0.9576349715851422\nmatthews_correlation 0.9153304328646035\nf1_score_micro 0.9619110523998239\nf1_score_weighted 0.9618428958795621\naccuracy 0.9619110523998239\nAUC_weighted 0.9921701418400241\nrecall_score_weighted 0.9619110523998239\nnorm_macro_recall 0.9120603884391882\nAUC_micro 0.9929096135079392\nbalanced_accuracy 0.9560301942195941\nlog_loss 0.1053382144791426\naverage_precision_score_micro 0.9930387904451217\nconfusion_matrix aml://artifactId/ExperimentRun/dcid.AutoML_6d605259-fabb-417e-b1a1-14fa32332859_2/confusion_matrix\naccuracy_table aml://artifactId/ExperimentRun/dcid.AutoML_6d605259-fabb-417e-b1a1-14fa32332859_2/accuracy_table\n"
        }
      ],
      "execution_count": 19,
      "metadata": {
        "vscode": {
          "languageId": "python"
        },
        "gather": {
          "logged": 1665914164871
        }
      }
    },
    {
      "cell_type": "markdown",
      "source": [
        "Finally, having found the best performing model, you can register it."
      ],
      "metadata": {}
    },
    {
      "cell_type": "code",
      "source": [
        "from azureml.core import Model\n",
        "\n",
        "# Register model\n",
        "best_run.register_model(model_path='outputs/model.pkl', model_name='diabetes_model',\n",
        "                        tags={'Training context':'Auto ML'},\n",
        "                        properties={'AUC': best_run_metrics['AUC_weighted'], 'Accuracy': best_run_metrics['accuracy']})\n",
        "\n",
        "# List registered models\n",
        "for model in Model.list(ws):\n",
        "    print(model.name, 'version:', model.version)\n",
        "    for tag_name in model.tags:\n",
        "        tag = model.tags[tag_name]\n",
        "        print ('\\t',tag_name, ':', tag)\n",
        "    for prop_name in model.properties:\n",
        "        prop = model.properties[prop_name]\n",
        "        print ('\\t',prop_name, ':', prop)\n",
        "    print('\\n')"
      ],
      "outputs": [
        {
          "output_type": "stream",
          "name": "stdout",
          "text": "diabetes_model version: 15\n\t Training context : Auto ML\n\t AUC : 0.9921701418400241\n\t Accuracy : 0.9619110523998239\n\n\ndiabetes_mitigated_20 version: 1\n\n\ndiabetes_mitigated_19 version: 1\n\n\ndiabetes_mitigated_18 version: 1\n\n\ndiabetes_mitigated_17 version: 1\n\n\ndiabetes_mitigated_16 version: 1\n\n\ndiabetes_mitigated_15 version: 1\n\n\ndiabetes_mitigated_14 version: 1\n\n\ndiabetes_mitigated_13 version: 1\n\n\ndiabetes_mitigated_12 version: 1\n\n\ndiabetes_mitigated_11 version: 1\n\n\ndiabetes_mitigated_10 version: 1\n\n\ndiabetes_mitigated_9 version: 1\n\n\ndiabetes_mitigated_8 version: 1\n\n\ndiabetes_mitigated_7 version: 1\n\n\ndiabetes_mitigated_6 version: 1\n\n\ndiabetes_mitigated_5 version: 1\n\n\ndiabetes_mitigated_4 version: 1\n\n\ndiabetes_mitigated_3 version: 1\n\n\ndiabetes_mitigated_2 version: 1\n\n\ndiabetes_mitigated_1 version: 1\n\n\ndiabetes_unmitigated version: 1\n\n\ndiabetes_classifier version: 1\n\n\ndiabetes_model version: 14\n\t Training context : Auto ML\n\t AUC : 0.9921701418400241\n\t Accuracy : 0.9619110523998239\n\n\ndiabetes_model version: 13\n\t Training context : Inline Training\n\t AUC : 0.884087211035913\n\t Accuracy : 0.8988888888888888\n\n\ndiabetes_model version: 12\n\t Training context : Pipeline\n\t AUC : 0.8854267957646471\n\t Accuracy : 0.9006666666666666\n\n\ndiabetes_model version: 11\n\t Training context : Pipeline\n\t AUC : 0.8837616052365906\n\t Accuracy : 0.8988888888888888\n\n\ndiabetes_model version: 10\n\t Training context : Inline Training\n\t AUC : 0.8760759241753321\n\t Accuracy : 0.8876666666666667\n\n\ndiabetes_model version: 9\n\t Training context : Pipeline\n\t AUC : 0.8824266656992872\n\t Accuracy : 0.8973333333333333\n\n\ndiabetes_model version: 8\n\t Training context : Inline Training\n\t AUC : 0.8768595452510075\n\t Accuracy : 0.89\n\n\ndiabetes_model version: 7\n\t Training context : Compute cluster\n\t AUC : 0.8825987589818095\n\t Accuracy : 0.8977777777777778\n\n\ndiabetes_model version: 6\n\t Training context : File dataset\n\t AUC : 0.8468331741963582\n\t Accuracy : 0.7793333333333333\n\n\ndiabetes_model version: 5\n\t Training context : Tabular dataset\n\t AUC : 0.856850684081858\n\t Accuracy : 0.7891111111111111\n\n\ndiabetes_model version: 4\n\t Training context : Parameterized script\n\t AUC : 0.8483198169063138\n\t Accuracy : 0.774\n\n\ndiabetes_model version: 3\n\t Training context : Script\n\t AUC : 0.8484929598487486\n\t Accuracy : 0.774\n\n\ndiabetes_model version: 2\n\t Training context : Parameterized script\n\t AUC : 0.8483198169063138\n\t Accuracy : 0.774\n\n\ndiabetes_model version: 1\n\t Training context : Script\n\t AUC : 0.8484929598487486\n\t Accuracy : 0.774\n\n\n"
        }
      ],
      "execution_count": 20,
      "metadata": {
        "vscode": {
          "languageId": "python"
        },
        "gather": {
          "logged": 1665914166704
        }
      }
    },
    {
      "cell_type": "markdown",
      "source": [
        "> **More Information**: For more information Automated Machine Learning, see the [Azure ML documentation](https://docs.microsoft.com/azure/machine-learning/how-to-configure-auto-train)."
      ],
      "metadata": {}
    }
  ],
  "metadata": {
    "kernelspec": {
      "name": "python38-azureml",
      "language": "python",
      "display_name": "Python 3.8 - AzureML"
    },
    "language_info": {
      "name": "python",
      "version": "3.8.5",
      "mimetype": "text/x-python",
      "codemirror_mode": {
        "name": "ipython",
        "version": 3
      },
      "pygments_lexer": "ipython3",
      "nbconvert_exporter": "python",
      "file_extension": ".py"
    },
    "kernel_info": {
      "name": "python38-azureml"
    },
    "nteract": {
      "version": "nteract-front-end@1.0.0"
    },
    "microsoft": {
      "host": {
        "AzureML": {
          "notebookHasBeenCompleted": true
        }
      }
    }
  },
  "nbformat": 4,
  "nbformat_minor": 0
}