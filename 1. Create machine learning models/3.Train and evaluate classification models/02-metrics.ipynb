{
  "cells": [
    {
      "cell_type": "markdown",
      "source": [
        "# Classification Metrics\n",
        "\n",
        "In the last notebook we fit binary classifier to predict whether patients were diabetic or not. We used accuracy as a measure of how well the model performed, but accuracy isn't everything. In this notebook, we will look at alternatives to accuracy that can be much more useful in machine learning.\n",
        "\n",
        "## Alternative metrics for binary classifiers\n",
        "\n",
        "Accuracy seems like a sensible metric to evaluate (and to a certain extent it is), but you need to be careful about drawing too many conclusions from the accuracy of a classifier. Remember that it's simply a measure of how many cases were predicted correctly. Suppose only 3% of the population is diabetic. You could create a classifier that always just predicts 0, and it would be 97% accurate - but not terribly helpful in identifying patients with diabetes!\n",
        "\n",
        "Fortunately, there are some other metrics that reveal a little more about how our model is performing. Scikit-Learn includes the ability to create a *classification report* that provides more insight than raw accuracy alone.\n",
        "\n",
        "To get started, run the next cell to load our data and train our model like last time."
      ],
      "metadata": {}
    },
    {
      "cell_type": "markdown",
      "source": [],
      "metadata": {}
    },
    {
      "cell_type": "code",
      "source": [
        "import pandas as pd\n",
        "from matplotlib import pyplot as plt\n",
        "%matplotlib inline\n",
        "from sklearn.model_selection import train_test_split\n",
        "from sklearn.metrics import accuracy_score\n",
        "\n",
        "\n",
        "# load the training dataset\n",
        "!wget https://raw.githubusercontent.com/MicrosoftDocs/mslearn-introduction-to-machine-learning/main/Data/ml-basics/diabetes.csv\n",
        "diabetes = pd.read_csv('diabetes.csv')\n",
        "\n",
        "# Separate features and labels\n",
        "features = ['Pregnancies','PlasmaGlucose','DiastolicBloodPressure','TricepsThickness','SerumInsulin','BMI','DiabetesPedigree','Age']\n",
        "label = 'Diabetic'\n",
        "X, y = diabetes[features].values, diabetes[label].values\n",
        "\n",
        "\n",
        "# Split data 70%-30% into training set and test set\n",
        "X_train, X_test, y_train, y_test = train_test_split(X, y, test_size=0.30, random_state=0)\n",
        "\n",
        "print ('Training cases: %d\\nTest cases: %d' % (X_train.shape[0], X_test.shape[0]))\n",
        "\n",
        "# Train the model\n",
        "from sklearn.linear_model import LogisticRegression\n",
        "\n",
        "# Set regularization rate\n",
        "reg = 0.01\n",
        "\n",
        "# train a logistic regression model on the training set\n",
        "model = LogisticRegression(C=1/reg, solver=\"liblinear\").fit(X_train, y_train)\n",
        "\n",
        "predictions = model.predict(X_test)\n",
        "print('Predicted labels: ', predictions)\n",
        "print('Actual labels:    ' ,y_test)\n",
        "\n",
        "\n",
        "print('Accuracy: ', accuracy_score(y_test, predictions))\n"
      ],
      "outputs": [
        {
          "output_type": "stream",
          "name": "stdout",
          "text": "--2022-10-15 06:42:59--  https://raw.githubusercontent.com/MicrosoftDocs/mslearn-introduction-to-machine-learning/main/Data/ml-basics/diabetes.csv\nResolving raw.githubusercontent.com (raw.githubusercontent.com)... 185.199.110.133, 185.199.109.133, 185.199.108.133, ...\nConnecting to raw.githubusercontent.com (raw.githubusercontent.com)|185.199.110.133|:443... connected.\nHTTP request sent, awaiting response... 200 OK\nLength: 776415 (758K) [text/plain]\nSaving to: ‘diabetes.csv.1’\n\ndiabetes.csv.1      100%[===================>] 758.22K  --.-KB/s    in 0.01s   \n\n2022-10-15 06:42:59 (77.6 MB/s) - ‘diabetes.csv.1’ saved [776415/776415]\n\nTraining cases: 10500\nTest cases: 4500\nPredicted labels:  [0 0 0 ... 0 1 0]\nActual labels:     [0 0 1 ... 1 1 1]\nAccuracy:  0.7893333333333333\n"
        }
      ],
      "execution_count": 1,
      "metadata": {
        "scrolled": false
      }
    },
    {
      "cell_type": "markdown",
      "source": [
        "One of the simplest places to start is a classification report. Run the next cell to see a range of alternatives ways to assess our model"
      ],
      "metadata": {}
    },
    {
      "cell_type": "code",
      "source": [
        "from sklearn. metrics import classification_report\n",
        "\n",
        "print(classification_report(y_test, predictions))"
      ],
      "outputs": [
        {
          "output_type": "stream",
          "name": "stdout",
          "text": "              precision    recall  f1-score   support\n\n           0       0.81      0.88      0.85      2986\n           1       0.72      0.60      0.66      1514\n\n    accuracy                           0.79      4500\n   macro avg       0.77      0.74      0.75      4500\nweighted avg       0.78      0.79      0.78      4500\n\n"
        }
      ],
      "execution_count": 2,
      "metadata": {
        "tags": []
      }
    },
    {
      "cell_type": "markdown",
      "source": [
        "The classification report includes the following metrics for each class  (0 and 1)\n",
        "\n",
        "> note that the header row may not line up with the values!\n",
        "\n",
        "* *Precision*: Of the predictions the model made for this class, what proportion were correct?\n",
        "* *Recall*: Out of all of the instances of this class in the test dataset, how many did the model identify?\n",
        "* *F1-Score*: An average metric that takes both precision and recall into account.\n",
        "* *Support*: How many instances of this class are there in the test dataset?\n",
        "\n",
        "The classification report also includes averages for these metrics, including a weighted average that allows for the imbalance in the number of cases of each class.\n",
        "\n",
        "Because this is a *binary* classification problem, the ***1*** class is considered *positive* and its precision and recall are particularly interesting - these in effect answer the questions:\n",
        "\n",
        "- Of all the patients the model predicted are diabetic, how many are actually diabetic?\n",
        "- Of all the patients that are actually diabetic, how many did the model identify?\n",
        "\n",
        "You can retrieve these values on their own by using the **precision_score** and **recall_score** metrics in scikit-learn (which by default assume a binary classification model)."
      ],
      "metadata": {}
    },
    {
      "cell_type": "code",
      "source": [
        "from sklearn.metrics import precision_score, recall_score\n",
        "\n",
        "print(\"Overall Precision:\",precision_score(y_test, predictions))\n",
        "print(\"Overall Recall:\",recall_score(y_test, predictions))"
      ],
      "outputs": [
        {
          "output_type": "stream",
          "name": "stdout",
          "text": "Overall Precision: 0.7242472266244057\nOverall Recall: 0.6036988110964333\n"
        }
      ],
      "execution_count": 3,
      "metadata": {
        "tags": []
      }
    },
    {
      "cell_type": "markdown",
      "source": [
        "The precision and recall metrics are derived from four possible prediction outcomes:\n",
        "* *True Positives*: The predicted label and the actual label are both 1.\n",
        "* *False Positives*: The predicted label is 1, but the actual label is 0.\n",
        "* *False Negatives*: The predicted label is 0, but the actual label is 1.\n",
        "* *True Negatives*: The predicted label and the actual label are both 0.\n",
        "\n",
        "These metrics are generally tabulated for the test set and shown together as a *confusion matrix*, which takes the following form:\n",
        "\n",
        "<table style=\"border: 1px solid black;\">\n",
        "    <tr style=\"border: 1px solid black;\">\n",
        "        <td style=\"border: 1px solid black;color: black;\" bgcolor=\"lightgray\">TN</td><td style=\"border: 1px solid black;color: black;\" bgcolor=\"white\">FP</td>\n",
        "    </tr>\n",
        "    <tr style=\"border: 1px solid black;\">\n",
        "        <td style=\"border: 1px solid black;color: black;\" bgcolor=\"white\">FN</td><td style=\"border: 1px solid black;color: black;\" bgcolor=\"lightgray\">TP</td>\n",
        "    </tr>\n",
        "</table>\n",
        "\n",
        "Note that the correct (*true*) predictions form a diagonal line from top left to bottom right - these figures should be significantly higher than the *false* predictions if the model is any good.\n",
        "\n",
        "In Python, you can use the **sklearn.metrics.confusion_matrix** function to find these values for a trained classifier:"
      ],
      "metadata": {}
    },
    {
      "cell_type": "code",
      "source": [
        "from sklearn.metrics import confusion_matrix\n",
        "\n",
        "# Print the confusion matrix\n",
        "cm = confusion_matrix(y_test, predictions)\n",
        "print (cm)"
      ],
      "outputs": [
        {
          "output_type": "stream",
          "name": "stdout",
          "text": "[[2638  348]\n [ 600  914]]\n"
        }
      ],
      "execution_count": 4,
      "metadata": {
        "tags": []
      }
    },
    {
      "cell_type": "markdown",
      "source": [
        "Until now, we've considered the predictions from the model as being either 1 or 0 class labels. Actually, things are a little more complex than that. Statistical machine learning algorithms, like logistic regression, are based on *probability*; so what actually gets predicted by a binary classifier is the probability that the label is true (**P(y)**) and the probability that the label is false (1 - **P(y)**). A threshold value of 0.5 is used to decide whether the predicted label is a 1 (*P(y) > 0.5*) or a 0 (*P(y) <= 0.5*). You can use the **predict_proba** method to see the probability pairs for each case:"
      ],
      "metadata": {}
    },
    {
      "cell_type": "code",
      "source": [
        "y_scores = model.predict_proba(X_test)\n",
        "print(y_scores)"
      ],
      "outputs": [
        {
          "output_type": "stream",
          "name": "stdout",
          "text": "[[0.8164781  0.1835219 ]\n [0.96294954 0.03705046]\n [0.80856408 0.19143592]\n ...\n [0.60693775 0.39306225]\n [0.10684086 0.89315914]\n [0.63873079 0.36126921]]\n"
        }
      ],
      "execution_count": 5,
      "metadata": {
        "tags": []
      }
    },
    {
      "cell_type": "markdown",
      "source": [
        "The decision to score a prediction as a 1 or a 0 depends on the threshold to which the predicted probabilities are compared. If we were to change the threshold, it would affect the predictions; and therefore change the metrics in the confusion matrix. A common way to evaluate a classifier is to examine the *true positive rate* (which is another name for recall) and the *false positive rate* for a range of possible thresholds. These rates are then plotted against all possible thresholds to form a chart known as a *received operator characteristic (ROC) chart*, like this:"
      ],
      "metadata": {}
    },
    {
      "cell_type": "code",
      "source": [
        "from sklearn.metrics import roc_curve\n",
        "from sklearn.metrics import confusion_matrix\n",
        "import matplotlib\n",
        "import matplotlib.pyplot as plt\n",
        "%matplotlib inline\n",
        "\n",
        "# calculate ROC curve\n",
        "fpr, tpr, thresholds = roc_curve(y_test, y_scores[:,1])\n",
        "\n",
        "# plot ROC curve\n",
        "fig = plt.figure(figsize=(6, 6))\n",
        "# Plot the diagonal 50% line\n",
        "plt.plot([0, 1], [0, 1], 'k--')\n",
        "# Plot the FPR and TPR achieved by our model\n",
        "plt.plot(fpr, tpr)\n",
        "plt.xlabel('False Positive Rate')\n",
        "plt.ylabel('True Positive Rate')\n",
        "plt.title('ROC Curve')\n",
        "plt.show()"
      ],
      "outputs": [
        {
          "output_type": "display_data",
          "data": {
            "text/plain": "<Figure size 432x432 with 1 Axes>",
            "image/png": "[encoded data removed]"
          },
          "metadata": {
            "needs_background": "light"
          }
        }
      ],
      "execution_count": 6,
      "metadata": {}
    },
    {
      "cell_type": "markdown",
      "source": [
        "The ROC chart shows the curve of the true and false positive rates for different threshold values between 0 and 1. A perfect classifier would have a curve that goes straight up the left side and straight across the top. The diagonal line across the chart represents the probability of predicting correctly with a 50/50 random prediction; so you obviously want the curve to be higher than that (or your model is no better than simply guessing!).\n",
        "\n",
        "The area under the curve (AUC) is a value between 0 and 1 that quantifies the overall performance of the model. The closer to 1 this value is, the better the model. Once again, scikit-Learn includes a function to calculate this metric."
      ],
      "metadata": {}
    },
    {
      "cell_type": "code",
      "source": [
        "from sklearn.metrics import roc_auc_score\n",
        "\n",
        "auc = roc_auc_score(y_test,y_scores[:,1])\n",
        "print('AUC: ' + str(auc))"
      ],
      "outputs": [
        {
          "output_type": "stream",
          "name": "stdout",
          "text": "AUC: 0.8568480296867549\n"
        }
      ],
      "execution_count": 7,
      "metadata": {
        "tags": []
      }
    },
    {
      "cell_type": "markdown",
      "source": [
        "### Perform preprocessing in a pipeline\n",
        "\n",
        "In this case, the ROC curve and its AUC indicate that the model performs better than a random guess which is not bad considering we performed very little preprocessing of the data.\n",
        "\n",
        "In practice, it's common to perform some preprocessing of the data to make it easier for the algorithm to fit a model to it. There's a huge range of preprocessing transformations you can perform to get your data ready for modeling, but we'll limit ourselves to a few common techniques:\n",
        "\n",
        "- Scaling numeric features so they're on the same scale. This prevents features with large values from producing coefficients that disproportionately affect the predictions.\n",
        "- Encoding categorical variables. For example, by using a *one hot encoding* technique you can create individual binary (true/false) features for each possible category value.\n",
        "\n",
        "To apply these preprocessing transformations, we'll make use of a Scikit-Learn feature named *pipelines*. These enable us to define a set of preprocessing steps that end with an algorithm. You can then fit the entire pipeline to the data, so that the model encapsulates all of the preprocessing steps as well as the regression algorithm. This is useful, because when we want to use the model to predict values from new data, we need to apply the same transformations (based on the same statistical distributions and category encodings used with the training data).\n",
        "\n",
        ">**Note**: The term *pipeline* is used extensively in machine learning, often to mean very different things! In this context, we're using it to refer to pipeline objects in Scikit-Learn, but you may see it used elsewhere to mean something else.\n"
      ],
      "metadata": {}
    },
    {
      "cell_type": "code",
      "source": [
        "# Train the model\n",
        "from sklearn.compose import ColumnTransformer\n",
        "from sklearn.pipeline import Pipeline\n",
        "from sklearn.preprocessing import StandardScaler, OneHotEncoder\n",
        "from sklearn.linear_model import LogisticRegression\n",
        "import numpy as np\n",
        "\n",
        "# Define preprocessing for numeric columns (normalize them so they're on the same scale)\n",
        "numeric_features = [0,1,2,3,4,5,6]\n",
        "numeric_transformer = Pipeline(steps=[\n",
        "    ('scaler', StandardScaler())])\n",
        "\n",
        "# Define preprocessing for categorical features (encode the Age column)\n",
        "categorical_features = [7]\n",
        "categorical_transformer = Pipeline(steps=[\n",
        "    ('onehot', OneHotEncoder(handle_unknown='ignore'))])\n",
        "\n",
        "# Combine preprocessing steps\n",
        "preprocessor = ColumnTransformer(\n",
        "    transformers=[\n",
        "        ('num', numeric_transformer, numeric_features),\n",
        "        ('cat', categorical_transformer, categorical_features)])\n",
        "\n",
        "# Create preprocessing and training pipeline\n",
        "pipeline = Pipeline(steps=[('preprocessor', preprocessor),\n",
        "                           ('logregressor', LogisticRegression(C=1/reg, solver=\"liblinear\"))])\n",
        "\n",
        "\n",
        "# fit the pipeline to train a logistic regression model on the training set\n",
        "model = pipeline.fit(X_train, (y_train))\n",
        "print (model)"
      ],
      "outputs": [
        {
          "output_type": "stream",
          "name": "stdout",
          "text": "Pipeline(steps=[('preprocessor',\n                 ColumnTransformer(transformers=[('num',\n                                                  Pipeline(steps=[('scaler',\n                                                                   StandardScaler())]),\n                                                  [0, 1, 2, 3, 4, 5, 6]),\n                                                 ('cat',\n                                                  Pipeline(steps=[('onehot',\n                                                                   OneHotEncoder(handle_unknown='ignore'))]),\n                                                  [7])])),\n                ('logregressor',\n                 LogisticRegression(C=100.0, solver='liblinear'))])\n"
        }
      ],
      "execution_count": 8,
      "metadata": {
        "tags": []
      }
    },
    {
      "cell_type": "markdown",
      "source": [
        "The pipeline encapsulates the preprocessing steps as well as model training.\n",
        "\n",
        "Let's use the model trained by this pipeline to predict labels for our test set, and compare the performance metrics with the basic model we created previously."
      ],
      "metadata": {}
    },
    {
      "cell_type": "code",
      "source": [
        "# Get predictions from test data\n",
        "predictions = model.predict(X_test)\n",
        "y_scores = model.predict_proba(X_test)\n",
        "\n",
        "# Get evaluation metrics\n",
        "cm = confusion_matrix(y_test, predictions)\n",
        "print ('Confusion Matrix:\\n',cm, '\\n')\n",
        "print('Accuracy:', accuracy_score(y_test, predictions))\n",
        "print(\"Overall Precision:\",precision_score(y_test, predictions))\n",
        "print(\"Overall Recall:\",recall_score(y_test, predictions))\n",
        "auc = roc_auc_score(y_test,y_scores[:,1])\n",
        "print('AUC: ' + str(auc))\n",
        "\n",
        "# calculate ROC curve\n",
        "fpr, tpr, thresholds = roc_curve(y_test, y_scores[:,1])\n",
        "\n",
        "# plot ROC curve\n",
        "fig = plt.figure(figsize=(6, 6))\n",
        "# Plot the diagonal 50% line\n",
        "plt.plot([0, 1], [0, 1], 'k--')\n",
        "# Plot the FPR and TPR achieved by our model\n",
        "plt.plot(fpr, tpr)\n",
        "plt.xlabel('False Positive Rate')\n",
        "plt.ylabel('True Positive Rate')\n",
        "plt.title('ROC Curve')\n",
        "plt.show()\n",
        "\n"
      ],
      "outputs": [
        {
          "output_type": "stream",
          "name": "stdout",
          "text": "Confusion Matrix:\n [[2667  319]\n [ 406 1108]] \n\nAccuracy: 0.8388888888888889\nOverall Precision: 0.7764540995094604\nOverall Recall: 0.7318361955085865\nAUC: 0.9202433903349937\n"
        },
        {
          "output_type": "display_data",
          "data": {
            "text/plain": "<Figure size 432x432 with 1 Axes>",
            "image/png": "[encoded data removed]"
          },
          "metadata": {
            "needs_background": "light"
          }
        }
      ],
      "execution_count": 9,
      "metadata": {
        "tags": []
      }
    },
    {
      "cell_type": "markdown",
      "source": [
        "The results look a little better, so clearly preprocessing the data has made a difference.\n",
        "\n",
        "### Try a different algorithm\n",
        "\n",
        "Now let's try a different algorithm. Previously we used a logistic regression algorithm, which is a *linear* algorithm. There are many kinds of classification algorithm we could try, including:\n",
        "\n",
        "- **Support Vector Machine algorithms**: Algorithms that define a *hyperplane* that separates classes.\n",
        "- **Tree-based algorithms**: Algorithms that build a decision tree to reach a prediction\n",
        "- **Ensemble algorithms**: Algorithms that combine the outputs of multiple base algorithms to improve generalizability.\n",
        "\n",
        "This time, We'll use the same preprocessing steps as before, but we'll train the model using an *ensemble* algorithm named *Random Forest* that combines the outputs of multiple random decision trees (for more details, see the [Scikit-Learn documentation](https://scikit-learn.org/stable/modules/ensemble.html#forests-of-randomized-trees))."
      ],
      "metadata": {}
    },
    {
      "cell_type": "code",
      "source": [
        "from sklearn.ensemble import RandomForestClassifier\n",
        "\n",
        "# Create preprocessing and training pipeline\n",
        "pipeline = Pipeline(steps=[('preprocessor', preprocessor),\n",
        "                           ('logregressor', RandomForestClassifier(n_estimators=100))])\n",
        "\n",
        "# fit the pipeline to train a random forest model on the training set\n",
        "model = pipeline.fit(X_train, (y_train))\n",
        "print (model)"
      ],
      "outputs": [
        {
          "output_type": "stream",
          "name": "stdout",
          "text": "Pipeline(steps=[('preprocessor',\n                 ColumnTransformer(transformers=[('num',\n                                                  Pipeline(steps=[('scaler',\n                                                                   StandardScaler())]),\n                                                  [0, 1, 2, 3, 4, 5, 6]),\n                                                 ('cat',\n                                                  Pipeline(steps=[('onehot',\n                                                                   OneHotEncoder(handle_unknown='ignore'))]),\n                                                  [7])])),\n                ('logregressor', RandomForestClassifier())])\n"
        }
      ],
      "execution_count": 10,
      "metadata": {
        "tags": []
      }
    },
    {
      "cell_type": "markdown",
      "source": [
        "Let's look at the performance metrics for the new model."
      ],
      "metadata": {}
    },
    {
      "cell_type": "code",
      "source": [
        "predictions = model.predict(X_test)\n",
        "y_scores = model.predict_proba(X_test)\n",
        "cm = confusion_matrix(y_test, predictions)\n",
        "print ('Confusion Matrix:\\n',cm, '\\n')\n",
        "print('Accuracy:', accuracy_score(y_test, predictions))\n",
        "print(\"Overall Precision:\",precision_score(y_test, predictions))\n",
        "print(\"Overall Recall:\",recall_score(y_test, predictions))\n",
        "auc = roc_auc_score(y_test,y_scores[:,1])\n",
        "print('\\nAUC: ' + str(auc))\n",
        "\n",
        "# calculate ROC curve\n",
        "fpr, tpr, thresholds = roc_curve(y_test, y_scores[:,1])\n",
        "\n",
        "# plot ROC curve\n",
        "fig = plt.figure(figsize=(6, 6))\n",
        "# Plot the diagonal 50% line\n",
        "plt.plot([0, 1], [0, 1], 'k--')\n",
        "# Plot the FPR and TPR achieved by our model\n",
        "plt.plot(fpr, tpr)\n",
        "plt.xlabel('False Positive Rate')\n",
        "plt.ylabel('True Positive Rate')\n",
        "plt.title('ROC Curve')\n",
        "plt.show()"
      ],
      "outputs": [
        {
          "output_type": "stream",
          "name": "stdout",
          "text": "Confusion Matrix:\n [[2859  127]\n [ 175 1339]] \n\nAccuracy: 0.9328888888888889\nOverall Precision: 0.9133697135061392\nOverall Recall: 0.8844121532364597\n\nAUC: 0.9819329703300563\n"
        },
        {
          "output_type": "display_data",
          "data": {
            "text/plain": "<Figure size 432x432 with 1 Axes>",
            "image/png": "[encoded data removed]"
          },
          "metadata": {
            "needs_background": "light"
          }
        }
      ],
      "execution_count": 11,
      "metadata": {
        "tags": []
      }
    },
    {
      "cell_type": "markdown",
      "source": [
        "That looks better!\n",
        "\n",
        "### Use the Model for Inferencing\n",
        "Now that we have a reasonably useful trained model, we can save it for use later to predict labels for new data:"
      ],
      "metadata": {}
    },
    {
      "cell_type": "code",
      "source": [
        "import joblib\n",
        "\n",
        "# Save the model as a pickle file\n",
        "filename = './diabetes_model.pkl'\n",
        "joblib.dump(model, filename)"
      ],
      "outputs": [
        {
          "output_type": "execute_result",
          "execution_count": 12,
          "data": {
            "text/plain": "['./diabetes_model.pkl']"
          },
          "metadata": {}
        }
      ],
      "execution_count": 12,
      "metadata": {}
    },
    {
      "cell_type": "markdown",
      "source": [
        "When we have some new observations for which the label is unknown, we can load the model and use it to predict values for the unknown label:"
      ],
      "metadata": {}
    },
    {
      "cell_type": "code",
      "source": [
        "# Load the model from the file\n",
        "model = joblib.load(filename)\n",
        "\n",
        "# predict on a new sample\n",
        "# The model accepts an array of feature arrays (so you can predict the classes of multiple patients in a single call)\n",
        "# We'll create an array with a single array of features, representing one patient\n",
        "X_new = np.array([[2,180,74,24,21,23.9091702,1.488172308,22]])\n",
        "print ('New sample: {}'.format(list(X_new[0])))\n",
        "\n",
        "# Get a prediction\n",
        "pred = model.predict(X_new)\n",
        "\n",
        "# The model returns an array of predictions - one for each set of features submitted\n",
        "# In our case, we only submitted one patient, so our prediction is the first one in the resulting array.\n",
        "print('Predicted class is {}'.format(pred[0]))"
      ],
      "outputs": [
        {
          "output_type": "stream",
          "name": "stdout",
          "text": "New sample: [2.0, 180.0, 74.0, 24.0, 21.0, 23.9091702, 1.488172308, 22.0]\nPredicted class is 1\n"
        }
      ],
      "execution_count": 13,
      "metadata": {
        "tags": []
      }
    },
    {
      "cell_type": "markdown",
      "source": [
        "## Summary\n",
        "\n",
        "In this notebook, we looked at a range of metrics for binary classification and tried a few algorithms beyond logistic regression. We will move onto more complex classification problems in the following notebook."
      ],
      "metadata": {}
    }
  ],
  "metadata": {
    "kernelspec": {
      "name": "conda-env-py38_default-py",
      "language": "python",
      "display_name": "py38_default"
    },
    "language_info": {
      "name": "python",
      "version": "3.8.13",
      "mimetype": "text/x-python",
      "codemirror_mode": {
        "name": "ipython",
        "version": 3
      },
      "pygments_lexer": "ipython3",
      "nbconvert_exporter": "python",
      "file_extension": ".py"
    },
    "kernel_info": {
      "name": "conda-env-py38_default-py"
    },
    "nteract": {
      "version": "nteract-front-end@1.0.0"
    }
  },
  "nbformat": 4,
  "nbformat_minor": 2
}