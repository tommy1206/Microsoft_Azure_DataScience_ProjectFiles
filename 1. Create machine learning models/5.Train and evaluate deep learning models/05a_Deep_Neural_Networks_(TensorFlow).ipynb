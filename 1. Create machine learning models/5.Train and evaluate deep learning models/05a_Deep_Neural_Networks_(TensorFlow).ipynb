{
  "cells": [
    {
      "cell_type": "markdown",
      "source": [
        "# Deep Learning with TensorFlow\n",
        "\n",
        "Classical machine learning relies on using statistics to determine relationships between features and labels, and can be very effective for creating predictive models. However, a massive growth in the availability of data coupled with advances in the computing technology required to process it has led to the emergence of new machine learning techniques that mimic the way the brain processes information in a structure called an artificial neural network.\n",
        "\n",
        "TensorFlow is a framework for creating machine learning models, including deep neural networks (DNNs). In this example, we'll use Tensorflow to create a simple neural network that classifies penguins into species based on the length and depth of their culmen (bill), their flipper length, and their body mass.\n",
        "\n",
        "> **Citation**: The penguins dataset used in the this exercise is a subset of data collected and made available by [Dr. Kristen\n",
        "Gorman](https://www.uaf.edu/cfos/people/faculty/detail/kristen-gorman.php)\n",
        "and the [Palmer Station, Antarctica LTER](https://pal.lternet.edu/), a\n",
        "member of the [Long Term Ecological Research\n",
        "Network](https://lternet.edu/).\n",
        "\n",
        "## Explore the dataset\n",
        "\n",
        "Before we start using TensorFlow to create a model, let's load the data we need from the Palmer Islands penguins dataset, which contains observations of three different species of penguin.\n",
        "\n",
        "> **Note**: In reality, you can solve the penguin classification problem easily using classical machine learning techniques without the need for a deep learning model; but it's a useful, easy to understand dataset with which to demonstrate the principles of neural networks in this notebook."
      ],
      "metadata": {
        "id": "HXts7BkuuajK"
      }
    },
    {
      "cell_type": "code",
      "source": [
        "!git clone https://github.com/MicrosoftDocs/ml-basics"
      ],
      "metadata": {
        "id": "7Xpm3LL0uc98",
        "outputId": "90daa13c-ff69-49af-936f-d00988c2388f",
        "colab": {
          "base_uri": "https://localhost:8080/"
        }
      },
      "execution_count": 2,
      "outputs": [
        {
          "output_type": "stream",
          "name": "stdout",
          "text": [
            "Cloning into 'ml-basics'...\n",
            "remote: Enumerating objects: 2055, done.\u001b[K\n",
            "remote: Total 2055 (delta 0), reused 0 (delta 0), pack-reused 2055\u001b[K\n",
            "Receiving objects: 100% (2055/2055), 8.37 MiB | 6.46 MiB/s, done.\n",
            "Resolving deltas: 100% (803/803), done.\n"
          ]
        }
      ]
    },
    {
      "cell_type": "code",
      "execution_count": 4,
      "source": [
        "import pandas as pd\n",
        "\n",
        "# load the training dataset (excluding rows with null values)\n",
        "penguins = pd.read_csv('/content/ml-basics/data/penguins.csv').dropna()\n",
        "\n",
        "# Deep Learning models work best when features are on similar scales\n",
        "# In a real solution, we'd implement some custom normalization for each feature, but to keep things simple\n",
        "# we'll just rescale the FlipperLength and BodyMass so they're on a similar scale to the bill measurements\n",
        "penguins['FlipperLength'] = penguins['FlipperLength']/10\n",
        "penguins['BodyMass'] = penguins['BodyMass']/100\n",
        "\n",
        "# The dataset is too small to be useful for deep learning\n",
        "# So we'll oversample it to increase its size\n",
        "for i in range(1,3):\n",
        "    penguins = penguins.append(penguins)\n",
        "\n",
        "# Display a random sample of 10 observations\n",
        "sample = penguins.sample(10)\n",
        "sample"
      ],
      "outputs": [
        {
          "output_type": "execute_result",
          "data": {
            "text/plain": [
              "     CulmenLength  CulmenDepth  FlipperLength  BodyMass  Species\n",
              "256          47.3         13.8           21.6     47.25        1\n",
              "328          45.7         17.3           19.3     36.00        2\n",
              "163          49.0         16.1           21.6     55.50        1\n",
              "243          52.2         17.1           22.8     54.00        1\n",
              "267          55.1         16.0           23.0     58.50        1\n",
              "24           38.8         17.2           18.0     38.00        0\n",
              "252          48.5         15.0           21.9     48.50        1\n",
              "258          41.7         14.7           21.0     47.00        1\n",
              "190          44.0         13.6           20.8     43.50        1\n",
              "170          46.2         14.5           20.9     48.00        1"
            ],
            "text/html": [
              "\n",
              "  <div id=\"df-7555c45b-09c7-4d65-ac26-c01f9f740c69\">\n",
              "    <div class=\"colab-df-container\">\n",
              "      <div>\n",
              "<style scoped>\n",
              "    .dataframe tbody tr th:only-of-type {\n",
              "        vertical-align: middle;\n",
              "    }\n",
              "\n",
              "    .dataframe tbody tr th {\n",
              "        vertical-align: top;\n",
              "    }\n",
              "\n",
              "    .dataframe thead th {\n",
              "        text-align: right;\n",
              "    }\n",
              "</style>\n",
              "<table border=\"1\" class=\"dataframe\">\n",
              "  <thead>\n",
              "    <tr style=\"text-align: right;\">\n",
              "      <th></th>\n",
              "      <th>CulmenLength</th>\n",
              "      <th>CulmenDepth</th>\n",
              "      <th>FlipperLength</th>\n",
              "      <th>BodyMass</th>\n",
              "      <th>Species</th>\n",
              "    </tr>\n",
              "  </thead>\n",
              "  <tbody>\n",
              "    <tr>\n",
              "      <th>256</th>\n",
              "      <td>47.3</td>\n",
              "      <td>13.8</td>\n",
              "      <td>21.6</td>\n",
              "      <td>47.25</td>\n",
              "      <td>1</td>\n",
              "    </tr>\n",
              "    <tr>\n",
              "      <th>328</th>\n",
              "      <td>45.7</td>\n",
              "      <td>17.3</td>\n",
              "      <td>19.3</td>\n",
              "      <td>36.00</td>\n",
              "      <td>2</td>\n",
              "    </tr>\n",
              "    <tr>\n",
              "      <th>163</th>\n",
              "      <td>49.0</td>\n",
              "      <td>16.1</td>\n",
              "      <td>21.6</td>\n",
              "      <td>55.50</td>\n",
              "      <td>1</td>\n",
              "    </tr>\n",
              "    <tr>\n",
              "      <th>243</th>\n",
              "      <td>52.2</td>\n",
              "      <td>17.1</td>\n",
              "      <td>22.8</td>\n",
              "      <td>54.00</td>\n",
              "      <td>1</td>\n",
              "    </tr>\n",
              "    <tr>\n",
              "      <th>267</th>\n",
              "      <td>55.1</td>\n",
              "      <td>16.0</td>\n",
              "      <td>23.0</td>\n",
              "      <td>58.50</td>\n",
              "      <td>1</td>\n",
              "    </tr>\n",
              "    <tr>\n",
              "      <th>24</th>\n",
              "      <td>38.8</td>\n",
              "      <td>17.2</td>\n",
              "      <td>18.0</td>\n",
              "      <td>38.00</td>\n",
              "      <td>0</td>\n",
              "    </tr>\n",
              "    <tr>\n",
              "      <th>252</th>\n",
              "      <td>48.5</td>\n",
              "      <td>15.0</td>\n",
              "      <td>21.9</td>\n",
              "      <td>48.50</td>\n",
              "      <td>1</td>\n",
              "    </tr>\n",
              "    <tr>\n",
              "      <th>258</th>\n",
              "      <td>41.7</td>\n",
              "      <td>14.7</td>\n",
              "      <td>21.0</td>\n",
              "      <td>47.00</td>\n",
              "      <td>1</td>\n",
              "    </tr>\n",
              "    <tr>\n",
              "      <th>190</th>\n",
              "      <td>44.0</td>\n",
              "      <td>13.6</td>\n",
              "      <td>20.8</td>\n",
              "      <td>43.50</td>\n",
              "      <td>1</td>\n",
              "    </tr>\n",
              "    <tr>\n",
              "      <th>170</th>\n",
              "      <td>46.2</td>\n",
              "      <td>14.5</td>\n",
              "      <td>20.9</td>\n",
              "      <td>48.00</td>\n",
              "      <td>1</td>\n",
              "    </tr>\n",
              "  </tbody>\n",
              "</table>\n",
              "</div>\n",
              "      <button class=\"colab-df-convert\" onclick=\"convertToInteractive('df-7555c45b-09c7-4d65-ac26-c01f9f740c69')\"\n",
              "              title=\"Convert this dataframe to an interactive table.\"\n",
              "              style=\"display:none;\">\n",
              "        \n",
              "  <svg xmlns=\"http://www.w3.org/2000/svg\" height=\"24px\"viewBox=\"0 0 24 24\"\n",
              "       width=\"24px\">\n",
              "    <path d=\"M0 0h24v24H0V0z\" fill=\"none\"/>\n",
              "    <path d=\"M18.56 5.44l.94 2.06.94-2.06 2.06-.94-2.06-.94-.94-2.06-.94 2.06-2.06.94zm-11 1L8.5 8.5l.94-2.06 2.06-.94-2.06-.94L8.5 2.5l-.94 2.06-2.06.94zm10 10l.94 2.06.94-2.06 2.06-.94-2.06-.94-.94-2.06-.94 2.06-2.06.94z\"/><path d=\"M17.41 7.96l-1.37-1.37c-.4-.4-.92-.59-1.43-.59-.52 0-1.04.2-1.43.59L10.3 9.45l-7.72 7.72c-.78.78-.78 2.05 0 2.83L4 21.41c.39.39.9.59 1.41.59.51 0 1.02-.2 1.41-.59l7.78-7.78 2.81-2.81c.8-.78.8-2.07 0-2.86zM5.41 20L4 18.59l7.72-7.72 1.47 1.35L5.41 20z\"/>\n",
              "  </svg>\n",
              "      </button>\n",
              "      \n",
              "  <style>\n",
              "    .colab-df-container {\n",
              "      display:flex;\n",
              "      flex-wrap:wrap;\n",
              "      gap: 12px;\n",
              "    }\n",
              "\n",
              "    .colab-df-convert {\n",
              "      background-color: #E8F0FE;\n",
              "      border: none;\n",
              "      border-radius: 50%;\n",
              "      cursor: pointer;\n",
              "      display: none;\n",
              "      fill: #1967D2;\n",
              "      height: 32px;\n",
              "      padding: 0 0 0 0;\n",
              "      width: 32px;\n",
              "    }\n",
              "\n",
              "    .colab-df-convert:hover {\n",
              "      background-color: #E2EBFA;\n",
              "      box-shadow: 0px 1px 2px rgba(60, 64, 67, 0.3), 0px 1px 3px 1px rgba(60, 64, 67, 0.15);\n",
              "      fill: #174EA6;\n",
              "    }\n",
              "\n",
              "    [theme=dark] .colab-df-convert {\n",
              "      background-color: #3B4455;\n",
              "      fill: #D2E3FC;\n",
              "    }\n",
              "\n",
              "    [theme=dark] .colab-df-convert:hover {\n",
              "      background-color: #434B5C;\n",
              "      box-shadow: 0px 1px 3px 1px rgba(0, 0, 0, 0.15);\n",
              "      filter: drop-shadow(0px 1px 2px rgba(0, 0, 0, 0.3));\n",
              "      fill: #FFFFFF;\n",
              "    }\n",
              "  </style>\n",
              "\n",
              "      <script>\n",
              "        const buttonEl =\n",
              "          document.querySelector('#df-7555c45b-09c7-4d65-ac26-c01f9f740c69 button.colab-df-convert');\n",
              "        buttonEl.style.display =\n",
              "          google.colab.kernel.accessAllowed ? 'block' : 'none';\n",
              "\n",
              "        async function convertToInteractive(key) {\n",
              "          const element = document.querySelector('#df-7555c45b-09c7-4d65-ac26-c01f9f740c69');\n",
              "          const dataTable =\n",
              "            await google.colab.kernel.invokeFunction('convertToInteractive',\n",
              "                                                     [key], {});\n",
              "          if (!dataTable) return;\n",
              "\n",
              "          const docLinkHtml = 'Like what you see? Visit the ' +\n",
              "            '<a target=\"_blank\" href=https://colab.research.google.com/notebooks/data_table.ipynb>data table notebook</a>'\n",
              "            + ' to learn more about interactive tables.';\n",
              "          element.innerHTML = '';\n",
              "          dataTable['output_type'] = 'display_data';\n",
              "          await google.colab.output.renderOutput(dataTable, element);\n",
              "          const docLink = document.createElement('div');\n",
              "          docLink.innerHTML = docLinkHtml;\n",
              "          element.appendChild(docLink);\n",
              "        }\n",
              "      </script>\n",
              "    </div>\n",
              "  </div>\n",
              "  "
            ]
          },
          "metadata": {},
          "execution_count": 4
        }
      ],
      "metadata": {
        "id": "tAWIoVJMuajO",
        "outputId": "d3e730e4-0777-4848-8651-7d19bdad8359",
        "colab": {
          "base_uri": "https://localhost:8080/",
          "height": 359
        }
      }
    },
    {
      "cell_type": "markdown",
      "source": [
        "The **Species** column is the label our model will predict. Each label value represents a class of penguin species, encoded as 0, 1, or 2. The following code shows the actual species to which these class labels corrrespond."
      ],
      "metadata": {
        "id": "Up1FJ4URuajR"
      }
    },
    {
      "cell_type": "code",
      "execution_count": 5,
      "source": [
        "penguin_classes = ['Adelie', 'Gentoo', 'Chinstrap']\n",
        "print(sample.columns[0:5].values, 'SpeciesName')\n",
        "for index, row in penguins.sample(10).iterrows():\n",
        "    print('[',row[0], row[1], row[2],row[3], int(row[4]), ']',penguin_classes[int(row[-1])])"
      ],
      "outputs": [
        {
          "output_type": "stream",
          "name": "stdout",
          "text": [
            "['CulmenLength' 'CulmenDepth' 'FlipperLength' 'BodyMass' 'Species'] SpeciesName\n",
            "[ 37.2 18.1 17.8 39.0 0 ] Adelie\n",
            "[ 34.4 18.4 18.4 33.25 0 ] Adelie\n",
            "[ 37.6 19.1 19.4 37.5 0 ] Adelie\n",
            "[ 36.5 16.6 18.1 28.5 0 ] Adelie\n",
            "[ 44.5 15.7 21.7 48.75 1 ] Gentoo\n",
            "[ 44.5 14.3 21.6 41.0 1 ] Gentoo\n",
            "[ 41.3 21.1 19.5 44.0 0 ] Adelie\n",
            "[ 40.3 18.5 19.6 43.5 0 ] Adelie\n",
            "[ 45.5 13.7 21.4 46.5 1 ] Gentoo\n",
            "[ 46.0 21.5 19.4 42.0 0 ] Adelie\n"
          ]
        }
      ],
      "metadata": {
        "tags": [],
        "id": "LNMFNnBcuajS",
        "outputId": "f97662d2-fa52-498d-ced5-c60713fa5e8d",
        "colab": {
          "base_uri": "https://localhost:8080/"
        }
      }
    },
    {
      "cell_type": "markdown",
      "source": [
        "As is common in a supervised learning problem, we'll split the dataset into a set of records with which to train the model, and a smaller set with which to validate the trained model."
      ],
      "metadata": {
        "id": "PQengJRtuajS"
      }
    },
    {
      "cell_type": "code",
      "execution_count": 6,
      "source": [
        "from sklearn.model_selection import train_test_split\n",
        "\n",
        "features = ['CulmenLength','CulmenDepth','FlipperLength','BodyMass']\n",
        "label = 'Species'\n",
        "   \n",
        "# Split data 70%-30% into training set and test set\n",
        "x_train, x_test, y_train, y_test = train_test_split(penguins[features].values,\n",
        "                                                    penguins[label].values,\n",
        "                                                    test_size=0.30,\n",
        "                                                    random_state=0)\n",
        "\n",
        "print ('Training Set: %d, Test Set: %d \\n' % (len(x_train), len(x_test)))\n",
        "print(\"Sample of features and labels:\")\n",
        "\n",
        "# Take a look at the first 25 training features and corresponding labels\n",
        "for n in range(0,24):\n",
        "    print(x_train[n], y_train[n], '(' + penguin_classes[y_train[n]] + ')')"
      ],
      "outputs": [
        {
          "output_type": "stream",
          "name": "stdout",
          "text": [
            "Training Set: 957, Test Set: 411 \n",
            "\n",
            "Sample of features and labels:\n",
            "[51.1 16.5 22.5 52.5] 1 (Gentoo)\n",
            "[50.7 19.7 20.3 40.5] 2 (Chinstrap)\n",
            "[49.5 16.2 22.9 58. ] 1 (Gentoo)\n",
            "[39.3 20.6 19.  36.5] 0 (Adelie)\n",
            "[42.5 20.7 19.7 45. ] 0 (Adelie)\n",
            "[50.  15.3 22.  55.5] 1 (Gentoo)\n",
            "[50.2  18.7  19.8  37.75] 2 (Chinstrap)\n",
            "[50.7 19.7 20.3 40.5] 2 (Chinstrap)\n",
            "[49.1  14.5  21.2  46.25] 1 (Gentoo)\n",
            "[43.2 16.6 18.7 29. ] 2 (Chinstrap)\n",
            "[38.8  17.6  19.1  32.75] 0 (Adelie)\n",
            "[37.8 17.1 18.6 33. ] 0 (Adelie)\n",
            "[45.8 14.2 21.9 47. ] 1 (Gentoo)\n",
            "[43.8 13.9 20.8 43. ] 1 (Gentoo)\n",
            "[36.  17.1 18.7 37. ] 0 (Adelie)\n",
            "[43.3 13.4 20.9 44. ] 1 (Gentoo)\n",
            "[36.  18.5 18.6 31. ] 0 (Adelie)\n",
            "[41.1  19.   18.2  34.25] 0 (Adelie)\n",
            "[33.1 16.1 17.8 29. ] 0 (Adelie)\n",
            "[40.9 13.7 21.4 46.5] 1 (Gentoo)\n",
            "[45.2 17.8 19.8 39.5] 2 (Chinstrap)\n",
            "[48.4 14.6 21.3 58.5] 1 (Gentoo)\n",
            "[43.6 13.9 21.7 49. ] 1 (Gentoo)\n",
            "[38.5  17.9  19.   33.25] 0 (Adelie)\n"
          ]
        }
      ],
      "metadata": {
        "tags": [],
        "id": "WitAeaL5uajT",
        "outputId": "ceb80a20-b866-48f2-f3ba-418749eba277",
        "colab": {
          "base_uri": "https://localhost:8080/"
        }
      }
    },
    {
      "cell_type": "markdown",
      "source": [
        "The *features* are the measurements for each penguin observation, and the *label* is a numeric value that indicates the species of penguin that the observation represents (Adelie, Gentoo, or Chinstrap).\n",
        "\n",
        "## Install and import TensorFlow libraries\n",
        "\n",
        "Since we plan to use TensorFlow to create our penguin classifier, we'll need to run the following two cells to install and import the libraries we intend to use.\n",
        "\n",
        "> **Note** *Keras* is an abstraction layer over the base TensorFlow API. In most common machine learning scenarios, you can use Keras to simplify your code."
      ],
      "metadata": {
        "id": "xhm7bMTduajT"
      }
    },
    {
      "cell_type": "code",
      "execution_count": 7,
      "source": [
        "!pip install --upgrade tensorflow"
      ],
      "outputs": [
        {
          "output_type": "stream",
          "name": "stdout",
          "text": [
            "Looking in indexes: https://pypi.org/simple, https://us-python.pkg.dev/colab-wheels/public/simple/\n",
            "Requirement already satisfied: tensorflow in /usr/local/lib/python3.7/dist-packages (2.9.2)\n",
            "Collecting tensorflow\n",
            "  Downloading tensorflow-2.10.0-cp37-cp37m-manylinux_2_17_x86_64.manylinux2014_x86_64.whl (578.0 MB)\n",
            "\u001b[K     |████████████████████████████████| 578.0 MB 16 kB/s \n",
            "\u001b[?25hRequirement already satisfied: google-pasta>=0.1.1 in /usr/local/lib/python3.7/dist-packages (from tensorflow) (0.2.0)\n",
            "Requirement already satisfied: libclang>=13.0.0 in /usr/local/lib/python3.7/dist-packages (from tensorflow) (14.0.6)\n",
            "Requirement already satisfied: keras-preprocessing>=1.1.1 in /usr/local/lib/python3.7/dist-packages (from tensorflow) (1.1.2)\n",
            "Requirement already satisfied: wrapt>=1.11.0 in /usr/local/lib/python3.7/dist-packages (from tensorflow) (1.14.1)\n",
            "Requirement already satisfied: tensorflow-io-gcs-filesystem>=0.23.1 in /usr/local/lib/python3.7/dist-packages (from tensorflow) (0.27.0)\n",
            "Requirement already satisfied: absl-py>=1.0.0 in /usr/local/lib/python3.7/dist-packages (from tensorflow) (1.2.0)\n",
            "Requirement already satisfied: astunparse>=1.6.0 in /usr/local/lib/python3.7/dist-packages (from tensorflow) (1.6.3)\n",
            "Collecting flatbuffers>=2.0\n",
            "  Downloading flatbuffers-22.9.24-py2.py3-none-any.whl (26 kB)\n",
            "Requirement already satisfied: grpcio<2.0,>=1.24.3 in /usr/local/lib/python3.7/dist-packages (from tensorflow) (1.49.1)\n",
            "Requirement already satisfied: opt-einsum>=2.3.2 in /usr/local/lib/python3.7/dist-packages (from tensorflow) (3.3.0)\n",
            "Requirement already satisfied: packaging in /usr/local/lib/python3.7/dist-packages (from tensorflow) (21.3)\n",
            "Collecting tensorflow-estimator<2.11,>=2.10.0\n",
            "  Downloading tensorflow_estimator-2.10.0-py2.py3-none-any.whl (438 kB)\n",
            "\u001b[K     |████████████████████████████████| 438 kB 62.6 MB/s \n",
            "\u001b[?25hRequirement already satisfied: gast<=0.4.0,>=0.2.1 in /usr/local/lib/python3.7/dist-packages (from tensorflow) (0.4.0)\n",
            "Requirement already satisfied: termcolor>=1.1.0 in /usr/local/lib/python3.7/dist-packages (from tensorflow) (2.0.1)\n",
            "Collecting keras<2.11,>=2.10.0\n",
            "  Downloading keras-2.10.0-py2.py3-none-any.whl (1.7 MB)\n",
            "\u001b[K     |████████████████████████████████| 1.7 MB 37.6 MB/s \n",
            "\u001b[?25hCollecting tensorboard<2.11,>=2.10\n",
            "  Downloading tensorboard-2.10.1-py3-none-any.whl (5.9 MB)\n",
            "\u001b[K     |████████████████████████████████| 5.9 MB 53.3 MB/s \n",
            "\u001b[?25hRequirement already satisfied: numpy>=1.20 in /usr/local/lib/python3.7/dist-packages (from tensorflow) (1.21.6)\n",
            "Requirement already satisfied: setuptools in /usr/local/lib/python3.7/dist-packages (from tensorflow) (57.4.0)\n",
            "Requirement already satisfied: typing-extensions>=3.6.6 in /usr/local/lib/python3.7/dist-packages (from tensorflow) (4.1.1)\n",
            "Requirement already satisfied: six>=1.12.0 in /usr/local/lib/python3.7/dist-packages (from tensorflow) (1.15.0)\n",
            "Requirement already satisfied: h5py>=2.9.0 in /usr/local/lib/python3.7/dist-packages (from tensorflow) (3.1.0)\n",
            "Requirement already satisfied: protobuf<3.20,>=3.9.2 in /usr/local/lib/python3.7/dist-packages (from tensorflow) (3.17.3)\n",
            "Requirement already satisfied: wheel<1.0,>=0.23.0 in /usr/local/lib/python3.7/dist-packages (from astunparse>=1.6.0->tensorflow) (0.37.1)\n",
            "Requirement already satisfied: cached-property in /usr/local/lib/python3.7/dist-packages (from h5py>=2.9.0->tensorflow) (1.5.2)\n",
            "Requirement already satisfied: google-auth-oauthlib<0.5,>=0.4.1 in /usr/local/lib/python3.7/dist-packages (from tensorboard<2.11,>=2.10->tensorflow) (0.4.6)\n",
            "Requirement already satisfied: google-auth<3,>=1.6.3 in /usr/local/lib/python3.7/dist-packages (from tensorboard<2.11,>=2.10->tensorflow) (1.35.0)\n",
            "Requirement already satisfied: markdown>=2.6.8 in /usr/local/lib/python3.7/dist-packages (from tensorboard<2.11,>=2.10->tensorflow) (3.4.1)\n",
            "Requirement already satisfied: tensorboard-plugin-wit>=1.6.0 in /usr/local/lib/python3.7/dist-packages (from tensorboard<2.11,>=2.10->tensorflow) (1.8.1)\n",
            "Requirement already satisfied: werkzeug>=1.0.1 in /usr/local/lib/python3.7/dist-packages (from tensorboard<2.11,>=2.10->tensorflow) (1.0.1)\n",
            "Requirement already satisfied: tensorboard-data-server<0.7.0,>=0.6.0 in /usr/local/lib/python3.7/dist-packages (from tensorboard<2.11,>=2.10->tensorflow) (0.6.1)\n",
            "Requirement already satisfied: requests<3,>=2.21.0 in /usr/local/lib/python3.7/dist-packages (from tensorboard<2.11,>=2.10->tensorflow) (2.23.0)\n",
            "Requirement already satisfied: rsa<5,>=3.1.4 in /usr/local/lib/python3.7/dist-packages (from google-auth<3,>=1.6.3->tensorboard<2.11,>=2.10->tensorflow) (4.9)\n",
            "Requirement already satisfied: cachetools<5.0,>=2.0.0 in /usr/local/lib/python3.7/dist-packages (from google-auth<3,>=1.6.3->tensorboard<2.11,>=2.10->tensorflow) (4.2.4)\n",
            "Requirement already satisfied: pyasn1-modules>=0.2.1 in /usr/local/lib/python3.7/dist-packages (from google-auth<3,>=1.6.3->tensorboard<2.11,>=2.10->tensorflow) (0.2.8)\n",
            "Requirement already satisfied: requests-oauthlib>=0.7.0 in /usr/local/lib/python3.7/dist-packages (from google-auth-oauthlib<0.5,>=0.4.1->tensorboard<2.11,>=2.10->tensorflow) (1.3.1)\n",
            "Requirement already satisfied: importlib-metadata>=4.4 in /usr/local/lib/python3.7/dist-packages (from markdown>=2.6.8->tensorboard<2.11,>=2.10->tensorflow) (5.0.0)\n",
            "Requirement already satisfied: zipp>=0.5 in /usr/local/lib/python3.7/dist-packages (from importlib-metadata>=4.4->markdown>=2.6.8->tensorboard<2.11,>=2.10->tensorflow) (3.9.0)\n",
            "Requirement already satisfied: pyasn1<0.5.0,>=0.4.6 in /usr/local/lib/python3.7/dist-packages (from pyasn1-modules>=0.2.1->google-auth<3,>=1.6.3->tensorboard<2.11,>=2.10->tensorflow) (0.4.8)\n",
            "Requirement already satisfied: certifi>=2017.4.17 in /usr/local/lib/python3.7/dist-packages (from requests<3,>=2.21.0->tensorboard<2.11,>=2.10->tensorflow) (2022.9.24)\n",
            "Requirement already satisfied: chardet<4,>=3.0.2 in /usr/local/lib/python3.7/dist-packages (from requests<3,>=2.21.0->tensorboard<2.11,>=2.10->tensorflow) (3.0.4)\n",
            "Requirement already satisfied: idna<3,>=2.5 in /usr/local/lib/python3.7/dist-packages (from requests<3,>=2.21.0->tensorboard<2.11,>=2.10->tensorflow) (2.10)\n",
            "Requirement already satisfied: urllib3!=1.25.0,!=1.25.1,<1.26,>=1.21.1 in /usr/local/lib/python3.7/dist-packages (from requests<3,>=2.21.0->tensorboard<2.11,>=2.10->tensorflow) (1.24.3)\n",
            "Requirement already satisfied: oauthlib>=3.0.0 in /usr/local/lib/python3.7/dist-packages (from requests-oauthlib>=0.7.0->google-auth-oauthlib<0.5,>=0.4.1->tensorboard<2.11,>=2.10->tensorflow) (3.2.1)\n",
            "Requirement already satisfied: pyparsing!=3.0.5,>=2.0.2 in /usr/local/lib/python3.7/dist-packages (from packaging->tensorflow) (3.0.9)\n",
            "Installing collected packages: tensorflow-estimator, tensorboard, keras, flatbuffers, tensorflow\n",
            "  Attempting uninstall: tensorflow-estimator\n",
            "    Found existing installation: tensorflow-estimator 2.9.0\n",
            "    Uninstalling tensorflow-estimator-2.9.0:\n",
            "      Successfully uninstalled tensorflow-estimator-2.9.0\n",
            "  Attempting uninstall: tensorboard\n",
            "    Found existing installation: tensorboard 2.9.1\n",
            "    Uninstalling tensorboard-2.9.1:\n",
            "      Successfully uninstalled tensorboard-2.9.1\n",
            "  Attempting uninstall: keras\n",
            "    Found existing installation: keras 2.9.0\n",
            "    Uninstalling keras-2.9.0:\n",
            "      Successfully uninstalled keras-2.9.0\n",
            "  Attempting uninstall: flatbuffers\n",
            "    Found existing installation: flatbuffers 1.12\n",
            "    Uninstalling flatbuffers-1.12:\n",
            "      Successfully uninstalled flatbuffers-1.12\n",
            "  Attempting uninstall: tensorflow\n",
            "    Found existing installation: tensorflow 2.9.2\n",
            "    Uninstalling tensorflow-2.9.2:\n",
            "      Successfully uninstalled tensorflow-2.9.2\n",
            "Successfully installed flatbuffers-22.9.24 keras-2.10.0 tensorboard-2.10.1 tensorflow-2.10.0 tensorflow-estimator-2.10.0\n"
          ]
        }
      ],
      "metadata": {
        "id": "xBU60JFJuajU",
        "outputId": "bfcc5a48-ee13-4dea-bf32-4a3e2d30b0fe",
        "colab": {
          "base_uri": "https://localhost:8080/"
        }
      }
    },
    {
      "cell_type": "code",
      "execution_count": 8,
      "source": [
        "import tensorflow\n",
        "from tensorflow import keras\n",
        "from tensorflow.keras import models\n",
        "from tensorflow.keras.models import Sequential\n",
        "from tensorflow.keras.layers import Dense\n",
        "from tensorflow.keras import utils\n",
        "from tensorflow.keras import optimizers\n",
        "\n",
        "# Set random seed for reproducability\n",
        "tensorflow.random.set_seed(0)\n",
        "\n",
        "print(\"Libraries imported.\")\n",
        "print('Keras version:',keras.__version__)\n",
        "print('TensorFlow version:',tensorflow.__version__)"
      ],
      "outputs": [
        {
          "output_type": "stream",
          "name": "stdout",
          "text": [
            "Libraries imported.\n",
            "Keras version: 2.10.0\n",
            "TensorFlow version: 2.10.0\n"
          ]
        }
      ],
      "metadata": {
        "tags": [],
        "id": "8YJwnWk3uajV",
        "outputId": "7aa56eb9-d2d9-411f-dc1a-114f280f8ea5",
        "colab": {
          "base_uri": "https://localhost:8080/"
        }
      }
    },
    {
      "cell_type": "markdown",
      "source": [
        "## Prepare the data for TensorFlow\n",
        "\n",
        "We've already loaded our data and split it into training and validation datasets. However, we need to do some further data preparation so that our data will work correctly with TensorFlow. Specifically, we need to set the data type of our features to 32-bit floating point numbers, and specify that the labels represent categorical classes rather than numeric values."
      ],
      "metadata": {
        "id": "iVopN1g9uajW"
      }
    },
    {
      "cell_type": "code",
      "execution_count": 9,
      "source": [
        "# Set data types for float features\n",
        "x_train = x_train.astype('float32')\n",
        "x_test = x_test.astype('float32')\n",
        "\n",
        "# Set data types for categorical labels\n",
        "y_train = utils.to_categorical(y_train)\n",
        "y_test = utils.to_categorical(y_test)\n",
        "print('Ready...')"
      ],
      "outputs": [
        {
          "output_type": "stream",
          "name": "stdout",
          "text": [
            "Ready...\n"
          ]
        }
      ],
      "metadata": {
        "tags": [],
        "id": "mRQKhoNTuajX",
        "outputId": "9afa7418-af7b-4afc-a9c9-d453c345d3c8",
        "colab": {
          "base_uri": "https://localhost:8080/"
        }
      }
    },
    {
      "cell_type": "markdown",
      "source": [
        "## Define a neural network\n",
        "\n",
        "Now we're ready to define our neural network. In this case, we'll create a network that consists of 3 fully-connected layers:\n",
        "* An input layer that receives an input value for each feature (in this case, the four penguin measurements) and applies a *ReLU* activation function.\n",
        "* A hidden layer that receives ten inputs and applies a *ReLU* activation function.\n",
        "* An output layer that uses a *SoftMax* activation function to generate an output for each penguin species (which represent the classification probabilities for each of the three possible penguin species). Softmax functions produce a vector with probability values that sum to 1."
      ],
      "metadata": {
        "id": "TumsAWlfuajX"
      }
    },
    {
      "cell_type": "code",
      "execution_count": 10,
      "source": [
        "# Define a classifier network\n",
        "hl = 10 # Number of hidden layer nodes\n",
        "\n",
        "model = Sequential()\n",
        "model.add(Dense(hl, input_dim=len(features), activation='relu'))\n",
        "model.add(Dense(hl, input_dim=hl, activation='relu'))\n",
        "model.add(Dense(len(penguin_classes), input_dim=hl, activation='softmax'))\n",
        "\n",
        "print(model.summary())"
      ],
      "outputs": [
        {
          "output_type": "stream",
          "name": "stdout",
          "text": [
            "Model: \"sequential\"\n",
            "_________________________________________________________________\n",
            " Layer (type)                Output Shape              Param #   \n",
            "=================================================================\n",
            " dense (Dense)               (None, 10)                50        \n",
            "                                                                 \n",
            " dense_1 (Dense)             (None, 10)                110       \n",
            "                                                                 \n",
            " dense_2 (Dense)             (None, 3)                 33        \n",
            "                                                                 \n",
            "=================================================================\n",
            "Total params: 193\n",
            "Trainable params: 193\n",
            "Non-trainable params: 0\n",
            "_________________________________________________________________\n",
            "None\n"
          ]
        }
      ],
      "metadata": {
        "tags": [],
        "id": "DTuGBOQFuajY",
        "outputId": "d8fcaa14-475c-49ed-bdea-7031a886d16f",
        "colab": {
          "base_uri": "https://localhost:8080/"
        }
      }
    },
    {
      "cell_type": "markdown",
      "source": [
        "## Train the model\n",
        "\n",
        "To train the model, we need to repeatedly feed the training values forward through the network, use a loss function to calculate the loss, use an optimizer to backpropagate the weight and bias value adjustments, and validate the model using the test data we withheld.\n",
        "\n",
        "To do this, we'll apply an Adam optimizer to a categorical cross-entropy loss function iteratively over 50 epochs."
      ],
      "metadata": {
        "id": "9EqiqZ-SuajY"
      }
    },
    {
      "cell_type": "code",
      "execution_count": 11,
      "source": [
        "#hyper-parameters for optimizer\n",
        "learning_rate = 0.001\n",
        "opt = optimizers.Adam(lr=learning_rate)\n",
        "\n",
        "model.compile(loss='categorical_crossentropy',\n",
        "              optimizer=opt,\n",
        "              metrics=['accuracy'])\n",
        "\n",
        "# Train the model over 50 epochs using 10-observation batches and using the test holdout dataset for validation\n",
        "num_epochs = 50\n",
        "history = model.fit(x_train, y_train, epochs=num_epochs, batch_size=10, validation_data=(x_test, y_test))"
      ],
      "outputs": [
        {
          "output_type": "stream",
          "name": "stderr",
          "text": [
            "/usr/local/lib/python3.7/dist-packages/keras/optimizers/optimizer_v2/adam.py:114: UserWarning: The `lr` argument is deprecated, use `learning_rate` instead.\n",
            "  super().__init__(name, **kwargs)\n"
          ]
        },
        {
          "output_type": "stream",
          "name": "stdout",
          "text": [
            "Epoch 1/50\n",
            "96/96 [==============================] - 1s 6ms/step - loss: 9.5514 - accuracy: 0.3135 - val_loss: 1.4119 - val_accuracy: 0.2603\n",
            "Epoch 2/50\n",
            "96/96 [==============================] - 0s 3ms/step - loss: 0.6407 - accuracy: 0.8046 - val_loss: 0.5303 - val_accuracy: 0.8443\n",
            "Epoch 3/50\n",
            "96/96 [==============================] - 0s 3ms/step - loss: 0.4065 - accuracy: 0.9279 - val_loss: 0.3439 - val_accuracy: 0.9708\n",
            "Epoch 4/50\n",
            "96/96 [==============================] - 0s 4ms/step - loss: 0.3033 - accuracy: 0.9582 - val_loss: 0.2901 - val_accuracy: 0.9659\n",
            "Epoch 5/50\n",
            "96/96 [==============================] - 0s 5ms/step - loss: 0.2504 - accuracy: 0.9739 - val_loss: 0.2587 - val_accuracy: 0.9586\n",
            "Epoch 6/50\n",
            "96/96 [==============================] - 0s 4ms/step - loss: 0.2118 - accuracy: 0.9739 - val_loss: 0.2024 - val_accuracy: 0.9757\n",
            "Epoch 7/50\n",
            "96/96 [==============================] - 0s 3ms/step - loss: 0.1843 - accuracy: 0.9770 - val_loss: 0.1693 - val_accuracy: 0.9805\n",
            "Epoch 8/50\n",
            "96/96 [==============================] - 0s 3ms/step - loss: 0.1572 - accuracy: 0.9760 - val_loss: 0.1483 - val_accuracy: 0.9781\n",
            "Epoch 9/50\n",
            "96/96 [==============================] - 0s 3ms/step - loss: 0.1402 - accuracy: 0.9781 - val_loss: 0.1309 - val_accuracy: 0.9805\n",
            "Epoch 10/50\n",
            "96/96 [==============================] - 0s 3ms/step - loss: 0.1225 - accuracy: 0.9822 - val_loss: 0.1181 - val_accuracy: 0.9781\n",
            "Epoch 11/50\n",
            "96/96 [==============================] - 0s 3ms/step - loss: 0.1121 - accuracy: 0.9864 - val_loss: 0.1072 - val_accuracy: 0.9805\n",
            "Epoch 12/50\n",
            "96/96 [==============================] - 0s 3ms/step - loss: 0.1027 - accuracy: 0.9812 - val_loss: 0.1011 - val_accuracy: 0.9854\n",
            "Epoch 13/50\n",
            "96/96 [==============================] - 0s 3ms/step - loss: 0.0872 - accuracy: 0.9864 - val_loss: 0.0903 - val_accuracy: 0.9854\n",
            "Epoch 14/50\n",
            "96/96 [==============================] - 0s 3ms/step - loss: 0.0841 - accuracy: 0.9833 - val_loss: 0.0845 - val_accuracy: 0.9805\n",
            "Epoch 15/50\n",
            "96/96 [==============================] - 0s 4ms/step - loss: 0.0788 - accuracy: 0.9822 - val_loss: 0.0884 - val_accuracy: 0.9805\n",
            "Epoch 16/50\n",
            "96/96 [==============================] - 1s 5ms/step - loss: 0.0813 - accuracy: 0.9801 - val_loss: 0.0716 - val_accuracy: 0.9805\n",
            "Epoch 17/50\n",
            "96/96 [==============================] - 1s 7ms/step - loss: 0.0712 - accuracy: 0.9843 - val_loss: 0.0698 - val_accuracy: 0.9805\n",
            "Epoch 18/50\n",
            "96/96 [==============================] - 1s 6ms/step - loss: 0.0681 - accuracy: 0.9822 - val_loss: 0.0791 - val_accuracy: 0.9805\n",
            "Epoch 19/50\n",
            "96/96 [==============================] - 0s 5ms/step - loss: 0.0689 - accuracy: 0.9812 - val_loss: 0.0756 - val_accuracy: 0.9781\n",
            "Epoch 20/50\n",
            "96/96 [==============================] - 0s 5ms/step - loss: 0.0624 - accuracy: 0.9854 - val_loss: 0.0859 - val_accuracy: 0.9659\n",
            "Epoch 21/50\n",
            "96/96 [==============================] - 1s 5ms/step - loss: 0.0581 - accuracy: 0.9833 - val_loss: 0.0701 - val_accuracy: 0.9757\n",
            "Epoch 22/50\n",
            "96/96 [==============================] - 1s 7ms/step - loss: 0.0535 - accuracy: 0.9875 - val_loss: 0.0839 - val_accuracy: 0.9659\n",
            "Epoch 23/50\n",
            "96/96 [==============================] - 1s 6ms/step - loss: 0.0590 - accuracy: 0.9843 - val_loss: 0.0682 - val_accuracy: 0.9781\n",
            "Epoch 24/50\n",
            "96/96 [==============================] - 0s 5ms/step - loss: 0.0486 - accuracy: 0.9916 - val_loss: 0.0507 - val_accuracy: 0.9927\n",
            "Epoch 25/50\n",
            "96/96 [==============================] - 1s 6ms/step - loss: 0.0482 - accuracy: 0.9916 - val_loss: 0.0498 - val_accuracy: 0.9903\n",
            "Epoch 26/50\n",
            "96/96 [==============================] - 1s 8ms/step - loss: 0.0501 - accuracy: 0.9864 - val_loss: 0.0447 - val_accuracy: 0.9927\n",
            "Epoch 27/50\n",
            "96/96 [==============================] - 1s 6ms/step - loss: 0.0446 - accuracy: 0.9896 - val_loss: 0.0444 - val_accuracy: 0.9927\n",
            "Epoch 28/50\n",
            "96/96 [==============================] - 1s 5ms/step - loss: 0.0424 - accuracy: 0.9906 - val_loss: 0.0496 - val_accuracy: 0.9878\n",
            "Epoch 29/50\n",
            "96/96 [==============================] - 1s 6ms/step - loss: 0.0446 - accuracy: 0.9854 - val_loss: 0.0439 - val_accuracy: 0.9927\n",
            "Epoch 30/50\n",
            "96/96 [==============================] - 1s 6ms/step - loss: 0.0410 - accuracy: 0.9927 - val_loss: 0.0435 - val_accuracy: 0.9927\n",
            "Epoch 31/50\n",
            "96/96 [==============================] - 1s 7ms/step - loss: 0.0541 - accuracy: 0.9812 - val_loss: 0.0408 - val_accuracy: 0.9927\n",
            "Epoch 32/50\n",
            "96/96 [==============================] - 1s 7ms/step - loss: 0.0388 - accuracy: 0.9937 - val_loss: 0.0398 - val_accuracy: 0.9927\n",
            "Epoch 33/50\n",
            "96/96 [==============================] - 0s 5ms/step - loss: 0.0421 - accuracy: 0.9864 - val_loss: 0.0382 - val_accuracy: 0.9951\n",
            "Epoch 34/50\n",
            "96/96 [==============================] - 1s 6ms/step - loss: 0.0374 - accuracy: 0.9937 - val_loss: 0.0829 - val_accuracy: 0.9611\n",
            "Epoch 35/50\n",
            "96/96 [==============================] - 0s 5ms/step - loss: 0.0339 - accuracy: 0.9916 - val_loss: 0.0393 - val_accuracy: 0.9951\n",
            "Epoch 36/50\n",
            "96/96 [==============================] - 0s 5ms/step - loss: 0.0347 - accuracy: 0.9885 - val_loss: 0.0329 - val_accuracy: 0.9927\n",
            "Epoch 37/50\n",
            "96/96 [==============================] - 1s 6ms/step - loss: 0.0345 - accuracy: 0.9906 - val_loss: 0.0336 - val_accuracy: 0.9927\n",
            "Epoch 38/50\n",
            "96/96 [==============================] - 1s 5ms/step - loss: 0.0342 - accuracy: 0.9948 - val_loss: 0.0326 - val_accuracy: 0.9927\n",
            "Epoch 39/50\n",
            "96/96 [==============================] - 1s 8ms/step - loss: 0.0391 - accuracy: 0.9906 - val_loss: 0.0526 - val_accuracy: 0.9781\n",
            "Epoch 40/50\n",
            "96/96 [==============================] - 1s 5ms/step - loss: 0.0392 - accuracy: 0.9833 - val_loss: 0.0425 - val_accuracy: 0.9805\n",
            "Epoch 41/50\n",
            "96/96 [==============================] - 1s 6ms/step - loss: 0.0333 - accuracy: 0.9864 - val_loss: 0.0303 - val_accuracy: 0.9927\n",
            "Epoch 42/50\n",
            "96/96 [==============================] - 1s 9ms/step - loss: 0.0391 - accuracy: 0.9864 - val_loss: 0.0286 - val_accuracy: 0.9927\n",
            "Epoch 43/50\n",
            "96/96 [==============================] - 0s 5ms/step - loss: 0.0350 - accuracy: 0.9896 - val_loss: 0.0330 - val_accuracy: 0.9927\n",
            "Epoch 44/50\n",
            "96/96 [==============================] - 0s 5ms/step - loss: 0.0335 - accuracy: 0.9896 - val_loss: 0.0366 - val_accuracy: 0.9903\n",
            "Epoch 45/50\n",
            "96/96 [==============================] - 0s 5ms/step - loss: 0.0285 - accuracy: 0.9937 - val_loss: 0.0304 - val_accuracy: 0.9927\n",
            "Epoch 46/50\n",
            "96/96 [==============================] - 1s 6ms/step - loss: 0.0284 - accuracy: 0.9937 - val_loss: 0.0266 - val_accuracy: 0.9976\n",
            "Epoch 47/50\n",
            "96/96 [==============================] - 1s 7ms/step - loss: 0.0365 - accuracy: 0.9896 - val_loss: 0.0257 - val_accuracy: 0.9927\n",
            "Epoch 48/50\n",
            "96/96 [==============================] - 1s 8ms/step - loss: 0.0294 - accuracy: 0.9916 - val_loss: 0.0622 - val_accuracy: 0.9708\n",
            "Epoch 49/50\n",
            "96/96 [==============================] - 1s 7ms/step - loss: 0.0275 - accuracy: 0.9906 - val_loss: 0.0561 - val_accuracy: 0.9684\n",
            "Epoch 50/50\n",
            "96/96 [==============================] - 0s 5ms/step - loss: 0.0282 - accuracy: 0.9896 - val_loss: 0.0385 - val_accuracy: 0.9854\n"
          ]
        }
      ],
      "metadata": {
        "scrolled": true,
        "tags": [],
        "id": "urNOAr9nuajZ",
        "outputId": "c345b2a2-2284-45e8-cb38-29a8818cb818",
        "colab": {
          "base_uri": "https://localhost:8080/"
        }
      }
    },
    {
      "cell_type": "markdown",
      "source": [
        "While the training process is running, let's try to understand what's happening:\n",
        "\n",
        "1. In each *epoch*, the full set of training data is passed forward through the network. There are four features for each observation, and four corresponding nodes in the input layer - so the features for each observation are passed as a vector of four values to that layer. However, for efficiency, the feature vectors are grouped into batches; so actually a matrix of multiple feature vectors is fed in each time.\n",
        "2. The matrix of feature values is processed by a function that performs a weighted sum using initialized weights and bias values. The result of this function is then processed by the activation function for the input layer to constrain the values passed to the nodes in the next layer.\n",
        "3. The weighted sum and activation functions are repeated in each layer. Note that the functions operate on vectors and matrices rather than individual scalar values. In other words, the forward pass is essentially a series of nested linear algebra functions. This is the reason data scientists prefer to use computers with graphical processing units (GPUs), since these are optimized for matrix and vector calculations.\n",
        "4. In the final layer of the network, the output vectors contain a probability value for each possible class (in this case, classes 0, 1, and 2). This vector is processed by a *loss function* to determine how far the values calculated by the network are from the actual values - so for example, suppose the output for a Gentoo penguin (class 1) observation is \\[0.3, 0.4, 0.3\\]. The correct prediction should be \\[0.0, 1.0, 0.0\\], so the variance between the predicted and actual values (how far away the each predicted value is from what it should be) is \\[0.3, 0.6, 0.3\\]. This variance is aggregated for each batch and maintained as a running aggregate to calculate the overall level of error (*loss*) incurred by the training data for the epoch. The accuracy (proportion of correct predictions based on the highest probability value in the output vector) for the training data is also calculated.\n",
        "5. At the end of each epoch, the validation data is passed through the network, and its loss and accuracy are also calculated. It's important to do this because it enables us to compare the performance of the model using data on which it was not trained, helping us determine if it will generalize well for new data or if it's *overfitted* to the training data.\n",
        "6. After all the data has been passed forward through the network, the output of the loss function for the *training* data (but <u>not</u> the *validation* data) is passed to the opimizer. The precise details of how the optimizer processes the loss vary depending on the specific optimization algorithm being used; but fundamentally you can think of the entire network, from the input layer to the loss function as being one big nested (*composite*) function. The optimizer applies some differential calculus to calculate *partial derivatives* for the function with respect to each weight and bias value that was used in the network. It's possible to do this efficiently for a nested function due to something called the *chain rule*, which enables you to determine the derivative of a composite function from the derivatives of its inner function and outer functions. You don't really need to worry about the details of the math here (the optimizer does it for you), but the end result is that the partial derivatives tell us about the slope (or *gradient*) of the loss function with respect to each weight and bias value - in other words, we can determine whether to increase or decrease the weight and bias values in order to decrease the loss.\n",
        "7. Having determined in which direction to adjust the weights and biases, the optimizer uses the *learning rate* to determine by how much to adjust them; and then works backwards through the network in a process called *backpropagation* to assign new values to the weights and biases in each layer.\n",
        "8. Now the next epoch repeats the whole training, validation, and backpropagation process starting with the revised weights and biases from the previous epoch - which hopefully will result in a lower level of loss.\n",
        "9. The process continues like this for 50 epochs.\n",
        "\n",
        "## Review training and validation loss\n",
        "\n",
        "After training is complete, we can examine the loss metrics we recorded while training and validating the model. We're really looking for two things:\n",
        "* The loss should reduce with each epoch, showing that the model is learning the right weights and biases to predict the correct labels.\n",
        "* The training loss and validation loss should follow a similar trend, showing that the model is not overfitting to the training data.\n",
        "\n",
        "Let's plot the loss metrics and see:"
      ],
      "metadata": {
        "id": "hzZ2qRV_uajZ"
      }
    },
    {
      "cell_type": "code",
      "execution_count": 12,
      "source": [
        "%matplotlib inline\n",
        "from matplotlib import pyplot as plt\n",
        "\n",
        "epoch_nums = range(1,num_epochs+1)\n",
        "training_loss = history.history[\"loss\"]\n",
        "validation_loss = history.history[\"val_loss\"]\n",
        "plt.plot(epoch_nums, training_loss)\n",
        "plt.plot(epoch_nums, validation_loss)\n",
        "plt.xlabel('epoch')\n",
        "plt.ylabel('loss')\n",
        "plt.legend(['training', 'validation'], loc='upper right')\n",
        "plt.show()"
      ],
      "outputs": [
        {
          "output_type": "display_data",
          "data": {
            "text/plain": [
              "<Figure size 432x288 with 1 Axes>"
            ],
            "image/png": "[encoded data removed]"
          },
          "metadata": {
            "needs_background": "light"
          }
        }
      ],
      "metadata": {
        "id": "LVO74myluaja",
        "outputId": "d5d031ba-f5aa-4f4a-9190-3ac234534514",
        "colab": {
          "base_uri": "https://localhost:8080/",
          "height": 283
        }
      }
    },
    {
      "cell_type": "markdown",
      "source": [
        "## View the learned weights and biases\n",
        "\n",
        "The trained model consists of the final weights and biases that were determined by the optimizer during training. Based on our network model we should expect the following values for each layer:\n",
        "* Layer 1: There are four input values going to ten output nodes, so there should be 4 x 10 weights and 10 bias values.\n",
        "* Layer 2: There are ten input values going to ten output nodes, so there should be 10 x 10 weights and 10 bias values.\n",
        "* Layer 3: There are ten input values going to three output nodes, so there should be 10 x 3 weights and 3 bias values."
      ],
      "metadata": {
        "id": "9b0e22suuajb"
      }
    },
    {
      "cell_type": "code",
      "execution_count": 13,
      "source": [
        "for layer in model.layers:\n",
        "    weights = layer.get_weights()[0]\n",
        "    biases = layer.get_weights()[1]\n",
        "    print('------------\\nWeights:\\n',weights,'\\nBiases:\\n', biases)"
      ],
      "outputs": [
        {
          "output_type": "stream",
          "name": "stdout",
          "text": [
            "------------\n",
            "Weights:\n",
            " [[-0.50469935  0.23987766 -0.2972961  -0.07839127 -0.645588    0.7054768\n",
            "   0.5869667   0.5297783   0.6046646  -0.53109807]\n",
            " [-0.04517829  0.49336526  0.3993473   0.42375293 -0.44916773 -0.36555701\n",
            "  -0.09301845  0.21100919 -0.848059    0.06192601]\n",
            " [-0.36494687  0.00093026 -0.6082859   0.6237776   0.49478972 -0.09272089\n",
            "  -0.05242917  0.08500236  0.28972778  0.2878747 ]\n",
            " [ 0.08917487 -0.00475866 -0.10345304  0.01750299  0.18491781 -0.46739507\n",
            "   0.09113495  0.3104878   0.49106377 -0.11359274]] \n",
            "Biases:\n",
            " [ 0.          0.07813415  0.          0.24073908  0.         -0.15088587\n",
            " -0.22337106 -0.12296231 -0.00979469  0.        ]\n",
            "------------\n",
            "Weights:\n",
            " [[-1.7574379e-01 -3.9258167e-01 -3.3122301e-02  5.1231158e-01\n",
            "  -2.5817868e-01 -3.2358304e-01 -1.3948819e-01 -4.8263568e-01\n",
            "   7.7074766e-04  9.4318092e-02]\n",
            " [ 2.6470488e-01  2.7945855e-01 -2.1573933e-02 -4.3883845e-01\n",
            "   1.8765485e-01 -3.1356609e-01  3.6398333e-01 -4.3941560e-01\n",
            "   2.0403749e-01  1.7334250e-01]\n",
            " [-3.6080706e-01 -3.9764923e-01  4.1587073e-01 -5.1379144e-02\n",
            "   2.3751301e-01  3.5263973e-01 -2.6275274e-01  3.9876407e-01\n",
            "   1.5459871e-01  4.4753671e-02]\n",
            " [ 3.0786073e-01  3.6443844e-01 -5.0572288e-04 -5.3391922e-01\n",
            "  -6.6810274e-01 -1.6693592e-01 -1.0364950e-02  4.5475209e-01\n",
            "  -5.6706727e-02  3.4897012e-01]\n",
            " [-5.2429640e-01  1.8502933e-01  5.8239579e-02 -4.8328471e-01\n",
            "  -4.5237756e-01  1.5324205e-01  4.1487020e-01  4.4647855e-01\n",
            "   3.2268667e-01  3.9398849e-02]\n",
            " [ 5.0055826e-01  6.3794494e-01  9.1744490e-02  2.3405676e-01\n",
            "   6.9569193e-02 -3.4620321e-01 -2.0100120e-01 -3.8931099e-01\n",
            "   4.9846470e-02 -8.7719816e-01]\n",
            " [-1.5967739e-01  5.3834464e-02 -2.0445096e-01  3.6113718e-01\n",
            "   3.7699875e-01 -1.8534651e-01 -4.3342233e-01 -5.4725426e-01\n",
            "   4.9723911e-01  2.1807592e-01]\n",
            " [-4.2658764e-01  4.0601039e-01  4.0776283e-01 -1.4374804e-01\n",
            "   1.6299513e-01 -3.3329362e-01 -2.8784993e-01 -2.4298787e-02\n",
            "  -4.4872323e-01  1.2931062e-01]\n",
            " [-3.8609293e-01 -1.6628467e-01  5.6522948e-01  4.6856666e-01\n",
            "  -1.6847630e-01  4.6804285e-01  3.4078109e-01 -2.1008417e-01\n",
            "  -5.0304514e-01  4.0257677e-01]\n",
            " [-5.4452085e-01 -4.7141209e-01  2.4035180e-01 -1.8382621e-01\n",
            "   2.1433479e-01  1.1377019e-01 -4.5260048e-01 -1.4767954e-01\n",
            "   3.9886308e-01  1.5405428e-01]] \n",
            "Biases:\n",
            " [ 0.         -0.11544554 -0.17256616 -0.27067035 -0.1855186   0.\n",
            "  0.          0.          0.          0.19111064]\n",
            "------------\n",
            "Weights:\n",
            " [[ 0.5573703  -0.6306143   0.41815805]\n",
            " [ 0.09037099 -0.54103994  0.59156704]\n",
            " [-0.16055204  0.49116883  0.303333  ]\n",
            " [-0.8355257   1.5827225   0.89028376]\n",
            " [-0.14225565 -0.0417264   0.6311424 ]\n",
            " [-0.39849472 -0.08014756 -0.27157858]\n",
            " [-0.5331075  -0.30909765 -0.47054994]\n",
            " [ 0.00681323 -0.6561851   0.03252882]\n",
            " [ 0.46475518  0.58355355 -0.4374322 ]\n",
            " [ 0.48718995  0.03696167 -0.6269661 ]] \n",
            "Biases:\n",
            " [ 0.17721671  0.02721092 -0.17372634]\n"
          ]
        }
      ],
      "metadata": {
        "tags": [],
        "id": "45Q68d1quajb",
        "outputId": "f15faec2-3c81-403f-a4f1-b6ae80890537",
        "colab": {
          "base_uri": "https://localhost:8080/"
        }
      }
    },
    {
      "cell_type": "markdown",
      "source": [
        "## Evaluate model performance\n",
        "\n",
        "So, is the model any good? The raw accuracy reported from the validation data would seem to indicate that it predicts pretty well; but it's typically useful to dig a little deeper and compare the predictions for each possible class. A common way to visualize the performance of a classification model is to create a *confusion matrix* that shows a crosstab of correct and incorrect predictions for each class."
      ],
      "metadata": {
        "id": "GEBWaybfuajb"
      }
    },
    {
      "cell_type": "code",
      "execution_count": 14,
      "source": [
        "# Tensorflow doesn't have a built-in confusion matrix metric, so we'll use SciKit-Learn\n",
        "import numpy as np\n",
        "from sklearn.metrics import confusion_matrix\n",
        "import matplotlib.pyplot as plt\n",
        "%matplotlib inline\n",
        "\n",
        "\n",
        "class_probabilities = model.predict(x_test)\n",
        "predictions = np.argmax(class_probabilities, axis=1)\n",
        "true_labels = np.argmax(y_test, axis=1)\n",
        "\n",
        "# Plot the confusion matrix\n",
        "cm = confusion_matrix(true_labels, predictions)\n",
        "plt.imshow(cm, interpolation=\"nearest\", cmap=plt.cm.Blues)\n",
        "plt.colorbar()\n",
        "tick_marks = np.arange(len(penguin_classes))\n",
        "plt.xticks(tick_marks, penguin_classes, rotation=85)\n",
        "plt.yticks(tick_marks, penguin_classes)\n",
        "plt.xlabel(\"Predicted Species\")\n",
        "plt.ylabel(\"Actual Species\")\n",
        "plt.show()"
      ],
      "outputs": [
        {
          "output_type": "stream",
          "name": "stdout",
          "text": [
            "13/13 [==============================] - 0s 2ms/step\n"
          ]
        },
        {
          "output_type": "display_data",
          "data": {
            "text/plain": [
              "<Figure size 432x288 with 2 Axes>"
            ],
            "image/png": "[encoded data removed]"
          },
          "metadata": {
            "needs_background": "light"
          }
        }
      ],
      "metadata": {
        "id": "YmwZQV4juajc",
        "outputId": "b09ba5eb-cedf-45d7-f929-6a45c023116b",
        "colab": {
          "base_uri": "https://localhost:8080/",
          "height": 335
        }
      }
    },
    {
      "cell_type": "markdown",
      "source": [
        "The confusion matrix should show a strong diagonal line indicating that there are more correct than incorrect predictions for each class.\n",
        "\n",
        "## Save the trained model\n",
        "Now that we have a model we believe is reasonably accurate, we can save its trained weights for use later."
      ],
      "metadata": {
        "id": "PX5geD9Auajd"
      }
    },
    {
      "cell_type": "code",
      "execution_count": 15,
      "source": [
        "# Save the trained model\n",
        "modelFileName = 'models/penguin-classifier.h5'\n",
        "model.save(modelFileName)\n",
        "del model  # deletes the existing model variable\n",
        "print('model saved as', modelFileName)"
      ],
      "outputs": [
        {
          "output_type": "stream",
          "name": "stdout",
          "text": [
            "model saved as models/penguin-classifier.h5\n"
          ]
        }
      ],
      "metadata": {
        "id": "upo3ICrluajd",
        "outputId": "12b5140b-adc8-4f37-a224-7bb41812bcf3",
        "colab": {
          "base_uri": "https://localhost:8080/"
        }
      }
    },
    {
      "cell_type": "markdown",
      "source": [
        "## Use the trained model\n",
        "\n",
        "When we have a new penguin observation, we can use the model to predict the species."
      ],
      "metadata": {
        "id": "zTcSi_Imuaje"
      }
    },
    {
      "cell_type": "code",
      "execution_count": 16,
      "source": [
        "# Load the saved model\n",
        "model = models.load_model(modelFileName)\n",
        "\n",
        "# CReate a new array of features\n",
        "x_new = np.array([[50.4,15.3,20,50]])\n",
        "print ('New sample: {}'.format(x_new))\n",
        "\n",
        "# Use the model to predict the class\n",
        "class_probabilities = model.predict(x_new)\n",
        "predictions = np.argmax(class_probabilities, axis=1)\n",
        "\n",
        "print(penguin_classes[predictions[0]])"
      ],
      "outputs": [
        {
          "output_type": "stream",
          "name": "stdout",
          "text": [
            "New sample: [[50.4 15.3 20.  50. ]]\n",
            "1/1 [==============================] - 0s 56ms/step\n",
            "Gentoo\n"
          ]
        }
      ],
      "metadata": {
        "tags": [],
        "id": "zdC6cHZRuaje",
        "outputId": "1a55c166-53d5-4eec-d00b-481f9b485c2d",
        "colab": {
          "base_uri": "https://localhost:8080/"
        }
      }
    },
    {
      "cell_type": "markdown",
      "source": [
        "## Learn more\n",
        "\n",
        "This notebook was designed to help you understand the basic concepts and principles involved in deep neural networks, using a simple Tensorflow example. To learn more about Tensorflow, take a look at the <a href=\"https://www.tensorflow.org/\" target=\"_blank\">Tensorflow web site</a>."
      ],
      "metadata": {
        "id": "QGuVPQbIuajf"
      }
    }
  ],
  "metadata": {
    "kernelspec": {
      "display_name": "Python 3.6 - AzureML",
      "language": "python",
      "name": "python3-azureml"
    },
    "language_info": {
      "codemirror_mode": {
        "name": "ipython",
        "version": 3
      },
      "file_extension": ".py",
      "mimetype": "text/x-python",
      "name": "python",
      "nbconvert_exporter": "python",
      "pygments_lexer": "ipython3",
      "version": "3.6.9"
    },
    "colab": {
      "provenance": []
    }
  },
  "nbformat": 4,
  "nbformat_minor": 0
}